{
 "cells": [
  {
   "cell_type": "code",
   "execution_count": 23,
   "metadata": {},
   "outputs": [],
   "source": [
    "from sklearn.datasets import make_regression\n",
    "import matplotlib.pyplot as plt\n",
    "import numpy as np"
   ]
  },
  {
   "cell_type": "code",
   "execution_count": 24,
   "metadata": {},
   "outputs": [],
   "source": [
    "x, y=make_regression(n_samples=100, n_features=1, n_informative=1, n_targets=1,noise=20, random_state=13)"
   ]
  },
  {
   "cell_type": "code",
   "execution_count": 25,
   "metadata": {},
   "outputs": [
    {
     "data": {
      "text/plain": [
       "<matplotlib.collections.PathCollection at 0x1f3de39c350>"
      ]
     },
     "execution_count": 25,
     "metadata": {},
     "output_type": "execute_result"
    },
    {
     "data": {
      "image/png": "[encoded data removed]",
      "text/plain": [
       "<Figure size 640x480 with 1 Axes>"
      ]
     },
     "metadata": {},
     "output_type": "display_data"
    }
   ],
   "source": [
    "plt.scatter(x,y)"
   ]
  },
  {
   "cell_type": "code",
   "execution_count": 26,
   "metadata": {},
   "outputs": [],
   "source": [
    "from sklearn.linear_model import LinearRegression"
   ]
  },
  {
   "cell_type": "code",
   "execution_count": 27,
   "metadata": {},
   "outputs": [],
   "source": [
    "lr=LinearRegression()"
   ]
  },
  {
   "cell_type": "code",
   "execution_count": 28,
   "metadata": {},
   "outputs": [
    {
     "data": {
      "text/html": [
       "<style>#sk-container-id-3 {color: black;}#sk-container-id-3 pre{padding: 0;}#sk-container-id-3 div.sk-toggleable {background-color: white;}#sk-container-id-3 label.sk-toggleable__label {cursor: pointer;display: block;width: 100%;margin-bottom: 0;padding: 0.3em;box-sizing: border-box;text-align: center;}#sk-container-id-3 label.sk-toggleable__label-arrow:before {content: \"▸\";float: left;margin-right: 0.25em;color: #696969;}#sk-container-id-3 label.sk-toggleable__label-arrow:hover:before {color: black;}#sk-container-id-3 div.sk-estimator:hover label.sk-toggleable__label-arrow:before {color: black;}#sk-container-id-3 div.sk-toggleable__content {max-height: 0;max-width: 0;overflow: hidden;text-align: left;background-color: #f0f8ff;}#sk-container-id-3 div.sk-toggleable__content pre {margin: 0.2em;color: black;border-radius: 0.25em;background-color: #f0f8ff;}#sk-container-id-3 input.sk-toggleable__control:checked~div.sk-toggleable__content {max-height: 200px;max-width: 100%;overflow: auto;}#sk-container-id-3 input.sk-toggleable__control:checked~label.sk-toggleable__label-arrow:before {content: \"▾\";}#sk-container-id-3 div.sk-estimator input.sk-toggleable__control:checked~label.sk-toggleable__label {background-color: #d4ebff;}#sk-container-id-3 div.sk-label input.sk-toggleable__control:checked~label.sk-toggleable__label {background-color: #d4ebff;}#sk-container-id-3 input.sk-hidden--visually {border: 0;clip: rect(1px 1px 1px 1px);clip: rect(1px, 1px, 1px, 1px);height: 1px;margin: -1px;overflow: hidden;padding: 0;position: absolute;width: 1px;}#sk-container-id-3 div.sk-estimator {font-family: monospace;background-color: #f0f8ff;border: 1px dotted black;border-radius: 0.25em;box-sizing: border-box;margin-bottom: 0.5em;}#sk-container-id-3 div.sk-estimator:hover {background-color: #d4ebff;}#sk-container-id-3 div.sk-parallel-item::after {content: \"\";width: 100%;border-bottom: 1px solid gray;flex-grow: 1;}#sk-container-id-3 div.sk-label:hover label.sk-toggleable__label {background-color: #d4ebff;}#sk-container-id-3 div.sk-serial::before {content: \"\";position: absolute;border-left: 1px solid gray;box-sizing: border-box;top: 0;bottom: 0;left: 50%;z-index: 0;}#sk-container-id-3 div.sk-serial {display: flex;flex-direction: column;align-items: center;background-color: white;padding-right: 0.2em;padding-left: 0.2em;position: relative;}#sk-container-id-3 div.sk-item {position: relative;z-index: 1;}#sk-container-id-3 div.sk-parallel {display: flex;align-items: stretch;justify-content: center;background-color: white;position: relative;}#sk-container-id-3 div.sk-item::before, #sk-container-id-3 div.sk-parallel-item::before {content: \"\";position: absolute;border-left: 1px solid gray;box-sizing: border-box;top: 0;bottom: 0;left: 50%;z-index: -1;}#sk-container-id-3 div.sk-parallel-item {display: flex;flex-direction: column;z-index: 1;position: relative;background-color: white;}#sk-container-id-3 div.sk-parallel-item:first-child::after {align-self: flex-end;width: 50%;}#sk-container-id-3 div.sk-parallel-item:last-child::after {align-self: flex-start;width: 50%;}#sk-container-id-3 div.sk-parallel-item:only-child::after {width: 0;}#sk-container-id-3 div.sk-dashed-wrapped {border: 1px dashed gray;margin: 0 0.4em 0.5em 0.4em;box-sizing: border-box;padding-bottom: 0.4em;background-color: white;}#sk-container-id-3 div.sk-label label {font-family: monospace;font-weight: bold;display: inline-block;line-height: 1.2em;}#sk-container-id-3 div.sk-label-container {text-align: center;}#sk-container-id-3 div.sk-container {/* jupyter's `normalize.less` sets `[hidden] { display: none; }` but bootstrap.min.css set `[hidden] { display: none !important; }` so we also need the `!important` here to be able to override the default hidden behavior on the sphinx rendered scikit-learn.org. See: https://github.com/scikit-learn/scikit-learn/issues/21755 */display: inline-block !important;position: relative;}#sk-container-id-3 div.sk-text-repr-fallback {display: none;}</style><div id=\"sk-container-id-3\" class=\"sk-top-container\"><div class=\"sk-text-repr-fallback\"><pre>LinearRegression()</pre><b>In a Jupyter environment, please rerun this cell to show the HTML representation or trust the notebook. <br />On GitHub, the HTML representation is unable to render, please try loading this page with nbviewer.org.</b></div><div class=\"sk-container\" hidden><div class=\"sk-item\"><div class=\"sk-estimator sk-toggleable\"><input class=\"sk-toggleable__control sk-hidden--visually\" id=\"sk-estimator-id-3\" type=\"checkbox\" checked><label for=\"sk-estimator-id-3\" class=\"sk-toggleable__label sk-toggleable__label-arrow\">LinearRegression</label><div class=\"sk-toggleable__content\"><pre>LinearRegression()</pre></div></div></div></div></div>"
      ],
      "text/plain": [
       "LinearRegression()"
      ]
     },
     "execution_count": 28,
     "metadata": {},
     "output_type": "execute_result"
    }
   ],
   "source": [
    "lr.fit(x,y)"
   ]
  },
  {
   "cell_type": "code",
   "execution_count": 29,
   "metadata": {},
   "outputs": [
    {
     "data": {
      "text/plain": [
       "array([27.82809103])"
      ]
     },
     "execution_count": 29,
     "metadata": {},
     "output_type": "execute_result"
    }
   ],
   "source": [
    "lr.coef_"
   ]
  },
  {
   "cell_type": "code",
   "execution_count": 30,
   "metadata": {},
   "outputs": [
    {
     "data": {
      "text/plain": [
       "-2.29474455867698"
      ]
     },
     "execution_count": 30,
     "metadata": {},
     "output_type": "execute_result"
    }
   ],
   "source": [
    "lr.intercept_"
   ]
  },
  {
   "cell_type": "code",
   "execution_count": 31,
   "metadata": {},
   "outputs": [
    {
     "data": {
      "text/html": [
       "<style>#sk-container-id-4 {color: black;}#sk-container-id-4 pre{padding: 0;}#sk-container-id-4 div.sk-toggleable {background-color: white;}#sk-container-id-4 label.sk-toggleable__label {cursor: pointer;display: block;width: 100%;margin-bottom: 0;padding: 0.3em;box-sizing: border-box;text-align: center;}#sk-container-id-4 label.sk-toggleable__label-arrow:before {content: \"▸\";float: left;margin-right: 0.25em;color: #696969;}#sk-container-id-4 label.sk-toggleable__label-arrow:hover:before {color: black;}#sk-container-id-4 div.sk-estimator:hover label.sk-toggleable__label-arrow:before {color: black;}#sk-container-id-4 div.sk-toggleable__content {max-height: 0;max-width: 0;overflow: hidden;text-align: left;background-color: #f0f8ff;}#sk-container-id-4 div.sk-toggleable__content pre {margin: 0.2em;color: black;border-radius: 0.25em;background-color: #f0f8ff;}#sk-container-id-4 input.sk-toggleable__control:checked~div.sk-toggleable__content {max-height: 200px;max-width: 100%;overflow: auto;}#sk-container-id-4 input.sk-toggleable__control:checked~label.sk-toggleable__label-arrow:before {content: \"▾\";}#sk-container-id-4 div.sk-estimator input.sk-toggleable__control:checked~label.sk-toggleable__label {background-color: #d4ebff;}#sk-container-id-4 div.sk-label input.sk-toggleable__control:checked~label.sk-toggleable__label {background-color: #d4ebff;}#sk-container-id-4 input.sk-hidden--visually {border: 0;clip: rect(1px 1px 1px 1px);clip: rect(1px, 1px, 1px, 1px);height: 1px;margin: -1px;overflow: hidden;padding: 0;position: absolute;width: 1px;}#sk-container-id-4 div.sk-estimator {font-family: monospace;background-color: #f0f8ff;border: 1px dotted black;border-radius: 0.25em;box-sizing: border-box;margin-bottom: 0.5em;}#sk-container-id-4 div.sk-estimator:hover {background-color: #d4ebff;}#sk-container-id-4 div.sk-parallel-item::after {content: \"\";width: 100%;border-bottom: 1px solid gray;flex-grow: 1;}#sk-container-id-4 div.sk-label:hover label.sk-toggleable__label {background-color: #d4ebff;}#sk-container-id-4 div.sk-serial::before {content: \"\";position: absolute;border-left: 1px solid gray;box-sizing: border-box;top: 0;bottom: 0;left: 50%;z-index: 0;}#sk-container-id-4 div.sk-serial {display: flex;flex-direction: column;align-items: center;background-color: white;padding-right: 0.2em;padding-left: 0.2em;position: relative;}#sk-container-id-4 div.sk-item {position: relative;z-index: 1;}#sk-container-id-4 div.sk-parallel {display: flex;align-items: stretch;justify-content: center;background-color: white;position: relative;}#sk-container-id-4 div.sk-item::before, #sk-container-id-4 div.sk-parallel-item::before {content: \"\";position: absolute;border-left: 1px solid gray;box-sizing: border-box;top: 0;bottom: 0;left: 50%;z-index: -1;}#sk-container-id-4 div.sk-parallel-item {display: flex;flex-direction: column;z-index: 1;position: relative;background-color: white;}#sk-container-id-4 div.sk-parallel-item:first-child::after {align-self: flex-end;width: 50%;}#sk-container-id-4 div.sk-parallel-item:last-child::after {align-self: flex-start;width: 50%;}#sk-container-id-4 div.sk-parallel-item:only-child::after {width: 0;}#sk-container-id-4 div.sk-dashed-wrapped {border: 1px dashed gray;margin: 0 0.4em 0.5em 0.4em;box-sizing: border-box;padding-bottom: 0.4em;background-color: white;}#sk-container-id-4 div.sk-label label {font-family: monospace;font-weight: bold;display: inline-block;line-height: 1.2em;}#sk-container-id-4 div.sk-label-container {text-align: center;}#sk-container-id-4 div.sk-container {/* jupyter's `normalize.less` sets `[hidden] { display: none; }` but bootstrap.min.css set `[hidden] { display: none !important; }` so we also need the `!important` here to be able to override the default hidden behavior on the sphinx rendered scikit-learn.org. See: https://github.com/scikit-learn/scikit-learn/issues/21755 */display: inline-block !important;position: relative;}#sk-container-id-4 div.sk-text-repr-fallback {display: none;}</style><div id=\"sk-container-id-4\" class=\"sk-top-container\"><div class=\"sk-text-repr-fallback\"><pre>LinearRegression()</pre><b>In a Jupyter environment, please rerun this cell to show the HTML representation or trust the notebook. <br />On GitHub, the HTML representation is unable to render, please try loading this page with nbviewer.org.</b></div><div class=\"sk-container\" hidden><div class=\"sk-item\"><div class=\"sk-estimator sk-toggleable\"><input class=\"sk-toggleable__control sk-hidden--visually\" id=\"sk-estimator-id-4\" type=\"checkbox\" checked><label for=\"sk-estimator-id-4\" class=\"sk-toggleable__label sk-toggleable__label-arrow\">LinearRegression</label><div class=\"sk-toggleable__content\"><pre>LinearRegression()</pre></div></div></div></div></div>"
      ],
      "text/plain": [
       "LinearRegression()"
      ]
     },
     "execution_count": 31,
     "metadata": {},
     "output_type": "execute_result"
    }
   ],
   "source": [
    "from sklearn.model_selection import train_test_split\n",
    "\n",
    "x_train,x_test, y_train, y_test= train_test_split(x,y,test_size=0.2,random_state=2)\n",
    "\n",
    "lr.fit(x_train,y_train)"
   ]
  },
  {
   "cell_type": "code",
   "execution_count": 32,
   "metadata": {},
   "outputs": [
    {
     "data": {
      "text/plain": [
       "array([ 21.09901593,  18.03495551,  18.23747414,  -8.10292651,\n",
       "        15.72634513,  58.21059953, -15.03324179, -11.33105581,\n",
       "       -15.81005402,  -8.8082183 , -23.57512364,  14.78144416,\n",
       "        12.70150681, -23.8893975 , -22.30769518, -16.670531  ,\n",
       "        24.52827391, -16.98551717,  -3.88916883, -12.01966768])"
      ]
     },
     "execution_count": 32,
     "metadata": {},
     "output_type": "execute_result"
    }
   ],
   "source": [
    "y_pred=lr.predict(x_test)\n",
    "y_pred"
   ]
  },
  {
   "cell_type": "code",
   "execution_count": 33,
   "metadata": {},
   "outputs": [],
   "source": [
    "from sklearn.metrics import r2_score"
   ]
  },
  {
   "cell_type": "code",
   "execution_count": 34,
   "metadata": {},
   "outputs": [
    {
     "data": {
      "text/plain": [
       "0.6345158782661012"
      ]
     },
     "execution_count": 34,
     "metadata": {},
     "output_type": "execute_result"
    }
   ],
   "source": [
    "r2_score(y_test,y_pred)"
   ]
  },
  {
   "cell_type": "code",
   "execution_count": 35,
   "metadata": {},
   "outputs": [],
   "source": [
    "from sklearn.model_selection import cross_val_score"
   ]
  },
  {
   "cell_type": "code",
   "execution_count": 36,
   "metadata": {},
   "outputs": [
    {
     "data": {
      "text/plain": [
       "0.6375011587464419"
      ]
     },
     "execution_count": 36,
     "metadata": {},
     "output_type": "execute_result"
    }
   ],
   "source": [
    "np.mean(cross_val_score(lr,x,y,scoring='r2',cv=10))"
   ]
  },
  {
   "cell_type": "code",
   "execution_count": 37,
   "metadata": {},
   "outputs": [],
   "source": [
    "class GDRegressor:\n",
    "    def __init__(self,learning_rate,epochs):\n",
    "        self.m=100\n",
    "        self.b=-120\n",
    "        self.lr=learning_rate\n",
    "        self.epochs=epochs\n",
    "\n",
    "    def fit(self,x,y):\n",
    "        #Calculating the b using Gradient descent\n",
    "        for i in range(self.epochs):\n",
    "            loss_slope_b= -2 * np.sum( y - self.m * x.ravel() - self.b)\n",
    "            loss_slope_m= -2 * np.sum( (y - self.m * x.ravel() - self.b)* x.ravel()) \n",
    "\n",
    "            self.b=self.b-(self.lr * loss_slope_b)\n",
    "            self.m=self.m-(self.lr * loss_slope_m)\n",
    "            \n",
    "            \n",
    "            print('epochs no=',i,'\\t\\t','Slope Loss of b is:',loss_slope_b, '\\tb b value is:',self.b,'\\n')\n",
    "            print('epochs no=',i,'\\t\\t','Slope Loss of m is:',loss_slope_m, '\\tb m value is:',self.m,'\\n')\n",
    "\n",
    "\n",
    "        print('\\n\\n the Value of b is:',self.b)\n",
    "        print('\\n\\n the Value of m is:',self.m)\n",
    "\n",
    "    def predict(self,x):\n",
    "        return self.m *x + self.b"
   ]
  },
  {
   "cell_type": "code",
   "execution_count": 38,
   "metadata": {},
   "outputs": [],
   "source": [
    "gd=GDRegressor(learning_rate=0.001,epochs=50)"
   ]
  },
  {
   "cell_type": "code",
   "execution_count": 39,
   "metadata": {},
   "outputs": [
    {
     "name": "stdout",
     "output_type": "stream",
     "text": [
      "epochs no= 0 \t\t Slope Loss of b is: -22697.976504888527 \tb b value is: -97.30202349511147 \n",
      "\n",
      "epochs no= 0 \t\t Slope Loss of m is: 11209.822193922304 \tb m value is: 88.7901778060777 \n",
      "\n",
      "epochs no= 1 \t\t Slope Loss of b is: -18289.32849782429 \tb b value is: -79.01269499728718 \n",
      "\n",
      "epochs no= 1 \t\t Slope Loss of m is: 9520.283799304067 \tb m value is: 79.26989400677363 \n",
      "\n",
      "epochs no= 2 \t\t Slope Loss of b is: -14742.67378619848 \tb b value is: -64.2700212110887 \n",
      "\n",
      "epochs no= 2 \t\t Slope Loss of m is: 8073.854851267904 \tb m value is: 71.19603915550572 \n",
      "\n",
      "epochs no= 3 \t\t Slope Loss of b is: -11888.453588631008 \tb b value is: -52.381567622457695 \n",
      "\n",
      "epochs no= 3 \t\t Slope Loss of m is: 6838.213112591715 \tb m value is: 64.357826042914 \n",
      "\n",
      "epochs no= 4 \t\t Slope Loss of b is: -9590.643308507377 \tb b value is: -42.79092431395032 \n",
      "\n",
      "epochs no= 4 \t\t Slope Loss of m is: 5784.691756975142 \tb m value is: 58.573134285938856 \n",
      "\n",
      "epochs no= 5 \t\t Slope Loss of b is: -7740.088397628653 \tb b value is: -35.05083591632167 \n",
      "\n",
      "epochs no= 5 \t\t Slope Loss of m is: 4888.033694880779 \tb m value is: 53.685100591058074 \n",
      "\n",
      "epochs no= 6 \t\t Slope Loss of b is: -6249.170177294125 \tb b value is: -28.80166573902754 \n",
      "\n",
      "epochs no= 6 \t\t Slope Loss of m is: 4126.110891220014 \tb m value is: 49.55898969983806 \n",
      "\n",
      "epochs no= 7 \t\t Slope Loss of b is: -5047.535216383076 \tb b value is: -23.754130522644466 \n",
      "\n",
      "epochs no= 7 \t\t Slope Loss of m is: 3479.630315210599 \tb m value is: 46.07935938462746 \n",
      "\n",
      "epochs no= 8 \t\t Slope Loss of b is: -4078.675398879868 \tb b value is: -19.6754551237646 \n",
      "\n",
      "epochs no= 8 \t\t Slope Loss of m is: 2931.841277305026 \tb m value is: 43.14751810732243 \n",
      "\n",
      "epochs no= 9 \t\t Slope Loss of b is: -3297.1885591567166 \tb b value is: -16.378266564607884 \n",
      "\n",
      "epochs no= 9 \t\t Slope Loss of m is: 2468.2538486329686 \tb m value is: 40.679264258689464 \n",
      "\n",
      "epochs no= 10 \t\t Slope Loss of b is: -2666.583700922752 \tb b value is: -13.711682863685132 \n",
      "\n",
      "epochs no= 10 \t\t Slope Loss of m is: 2076.3743805099593 \tb m value is: 38.602889878179504 \n",
      "\n",
      "epochs no= 11 \t\t Slope Loss of b is: -2157.5220828601614 \tb b value is: -11.55416078082497 \n",
      "\n",
      "epochs no= 11 \t\t Slope Loss of m is: 1745.4615037738538 \tb m value is: 36.85742837440565 \n",
      "\n",
      "epochs no= 12 \t\t Slope Loss of b is: -1746.4072368446764 \tb b value is: -9.807753543980294 \n",
      "\n",
      "epochs no= 12 \t\t Slope Loss of m is: 1466.3041283982818 \tb m value is: 35.391124246007365 \n",
      "\n",
      "epochs no= 13 \t\t Slope Loss of b is: -1414.2543892292688 \tb b value is: -8.393499154751025 \n",
      "\n",
      "epochs no= 13 \t\t Slope Loss of m is: 1231.0216831889718 \tb m value is: 34.160102562818395 \n",
      "\n",
      "epochs no= 14 \t\t Slope Loss of b is: -1145.7836643754763 \tb b value is: -7.2477154903755485 \n",
      "\n",
      "epochs no= 14 \t\t Slope Loss of m is: 1032.8859813457066 \tb m value is: 33.12721658147269 \n",
      "\n",
      "epochs no= 15 \t\t Slope Loss of b is: -928.6925666048975 \tb b value is: -6.3190229237706514 \n",
      "\n",
      "epochs no= 15 \t\t Slope Loss of m is: 866.1635550418846 \tb m value is: 32.2610530264308 \n",
      "\n",
      "epochs no= 16 \t\t Slope Loss of b is: -753.0721239952185 \tb b value is: -5.5659507997754325 \n",
      "\n",
      "epochs no= 16 \t\t Slope Loss of m is: 725.9769840256439 \tb m value is: 31.53507604240516 \n",
      "\n",
      "epochs no= 17 \t\t Slope Loss of b is: -610.9381835300977 \tb b value is: -4.955012616245335 \n",
      "\n",
      "epochs no= 17 \t\t Slope Loss of m is: 608.183584390902 \tb m value is: 30.926892458014258 \n",
      "\n",
      "epochs no= 18 \t\t Slope Loss of b is: -495.8550301246038 \tb b value is: -4.459157586120731 \n",
      "\n",
      "epochs no= 18 \t\t Slope Loss of m is: 509.269775520752 \tb m value is: 30.417622682493505 \n",
      "\n",
      "epochs no= 19 \t\t Slope Loss of b is: -402.6330478953079 \tb b value is: -4.056524538225423 \n",
      "\n",
      "epochs no= 19 \t\t Slope Loss of m is: 426.2594698410292 \tb m value is: 29.991363212652477 \n",
      "\n",
      "epochs no= 20 \t\t Slope Loss of b is: -327.0857790332593 \tb b value is: -3.7294387591921634 \n",
      "\n",
      "epochs no= 20 \t\t Slope Loss of m is: 356.6349051149479 \tb m value is: 29.63472830753753 \n",
      "\n",
      "epochs no= 21 \t\t Slope Loss of b is: -265.8346461065429 \tb b value is: -3.4636041130856206 \n",
      "\n",
      "epochs no= 21 \t\t Slope Loss of m is: 298.2684434940768 \tb m value is: 29.33645986404345 \n",
      "\n",
      "epochs no= 22 \t\t Slope Loss of b is: -216.15193321442 \tb b value is: -3.2474521798712006 \n",
      "\n",
      "epochs no= 22 \t\t Slope Loss of m is: 249.3639818046488 \tb m value is: 29.087095882238803 \n",
      "\n",
      "epochs no= 23 \t\t Slope Loss of b is: -175.8344864961774 \tb b value is: -3.071617693375023 \n",
      "\n",
      "epochs no= 23 \t\t Slope Loss of m is: 208.40674405436295 \tb m value is: 28.87868913818444 \n",
      "\n",
      "epochs no= 24 \t\t Slope Loss of b is: -143.10208804046806 \tb b value is: -2.928515605334555 \n",
      "\n",
      "epochs no= 24 \t\t Slope Loss of m is: 174.12035337871126 \tb m value is: 28.70456878480573 \n",
      "\n",
      "epochs no= 25 \t\t Slope Loss of b is: -116.51565354965884 \tb b value is: -2.811999951784896 \n",
      "\n",
      "epochs no= 25 \t\t Slope Loss of m is: 145.4302023148169 \tb m value is: 28.559138582490913 \n",
      "\n",
      "epochs no= 26 \t\t Slope Loss of b is: -94.91136258196121 \tb b value is: -2.717088589202935 \n",
      "\n",
      "epochs no= 26 \t\t Slope Loss of m is: 121.43225471866793 \tb m value is: 28.437706327772243 \n",
      "\n",
      "epochs no= 27 \t\t Slope Loss of b is: -77.34759830540912 \tb b value is: -2.6397409908975256 \n",
      "\n",
      "epochs no= 27 \t\t Slope Loss of m is: 101.36651831275599 \tb m value is: 28.33633980945949 \n",
      "\n",
      "epochs no= 28 \t\t Slope Loss of b is: -63.06218942118538 \tb b value is: -2.57667880147634 \n",
      "\n",
      "epochs no= 28 \t\t Slope Loss of m is: 84.5945230688335 \tb m value is: 28.251745286390655 \n",
      "\n",
      "epochs no= 29 \t\t Slope Loss of b is: -51.437940616501294 \tb b value is: -2.525240860859839 \n",
      "\n",
      "epochs no= 29 \t\t Slope Loss of m is: 70.58022726300837 \tb m value is: 28.181165059127647 \n",
      "\n",
      "epochs no= 30 \t\t Slope Loss of b is: -41.97483388139826 \tb b value is: -2.483266026978441 \n",
      "\n",
      "epochs no= 30 \t\t Slope Loss of m is: 58.87385033379293 \tb m value is: 28.122291208793854 \n",
      "\n",
      "epochs no= 31 \t\t Slope Loss of b is: -34.2676007060724 \tb b value is: -2.4489984262723685 \n",
      "\n",
      "epochs no= 31 \t\t Slope Loss of m is: 49.0982001148093 \tb m value is: 28.073193008679045 \n",
      "\n",
      "epochs no= 32 \t\t Slope Loss of b is: -27.987620120600482 \tb b value is: -2.421010806151768 \n",
      "\n",
      "epochs no= 32 \t\t Slope Loss of m is: 40.93712223172547 \tb m value is: 28.03225588644732 \n",
      "\n",
      "epochs no= 33 \t\t Slope Loss of b is: -22.868302198603537 \tb b value is: -2.3981425039531645 \n",
      "\n",
      "epochs no= 33 \t\t Slope Loss of m is: 34.12575214864853 \tb m value is: 27.998130134298673 \n",
      "\n",
      "epochs no= 34 \t\t Slope Loss of b is: -18.693280989668345 \tb b value is: -2.3794492229634963 \n",
      "\n",
      "epochs no= 34 \t\t Slope Loss of m is: 28.442296246921625 \tb m value is: 27.96968783805175 \n",
      "\n",
      "epochs no= 35 \t\t Slope Loss of b is: -15.286872856136618 \tb b value is: -2.3641623501073594 \n",
      "\n",
      "epochs no= 35 \t\t Slope Loss of m is: 23.701108133454124 \tb m value is: 27.945986729918296 \n",
      "\n",
      "epochs no= 36 \t\t Slope Loss of b is: -12.506362263582332 \tb b value is: -2.351655987843777 \n",
      "\n",
      "epochs no= 36 \t\t Slope Loss of m is: 19.746860789498655 \tb m value is: 27.926239869128796 \n",
      "\n",
      "epochs no= 37 \t\t Slope Loss of b is: -10.235762335276853 \tb b value is: -2.3414202255085 \n",
      "\n",
      "epochs no= 37 \t\t Slope Loss of m is: 16.449644822828937 \tb m value is: 27.90979022430597 \n",
      "\n",
      "epochs no= 38 \t\t Slope Loss of b is: -8.380766036100233 \tb b value is: -2.3330394594724 \n",
      "\n",
      "epochs no= 38 \t\t Slope Loss of m is: 13.700848563817477 \tb m value is: 27.89608937574215 \n",
      "\n",
      "epochs no= 39 \t\t Slope Loss of b is: -6.864658993102346 \tb b value is: -2.3261748004792975 \n",
      "\n",
      "epochs no= 39 \t\t Slope Loss of m is: 11.409697581671537 \tb m value is: 27.884679678160477 \n",
      "\n",
      "epochs no= 40 \t\t Slope Loss of b is: -5.625009328385971 \tb b value is: -2.3205497911509116 \n",
      "\n",
      "epochs no= 40 \t\t Slope Loss of m is: 9.500349869456088 \tb m value is: 27.875179328291022 \n",
      "\n",
      "epochs no= 41 \t\t Slope Loss of b is: -4.610985592880226 \tb b value is: -2.3159388055580314 \n",
      "\n",
      "epochs no= 41 \t\t Slope Loss of m is: 7.909458881210124 \tb m value is: 27.86726986940981 \n",
      "\n",
      "epochs no= 42 \t\t Slope Loss of b is: -3.781182646031212 \tb b value is: -2.312157622912 \n",
      "\n",
      "epochs no= 42 \t\t Slope Loss of m is: 6.584130177789369 \tb m value is: 27.86068573923202 \n",
      "\n",
      "epochs no= 43 \t\t Slope Loss of b is: -3.1018584901562534 \tb b value is: -2.309055764421844 \n",
      "\n",
      "epochs no= 43 \t\t Slope Loss of m is: 5.480208980469634 \tb m value is: 27.855205530251553 \n",
      "\n",
      "epochs no= 44 \t\t Slope Loss of b is: -2.5455037340227165 \tb b value is: -2.3065102606878214 \n",
      "\n",
      "epochs no= 44 \t\t Slope Loss of m is: 4.560845731662315 \tb m value is: 27.85064468451989 \n",
      "\n",
      "epochs no= 45 \t\t Slope Loss of b is: -2.089680407340431 \tb b value is: -2.304420580280481 \n",
      "\n",
      "epochs no= 45 \t\t Slope Loss of m is: 3.7952950715653557 \tb m value is: 27.846849389448323 \n",
      "\n",
      "epochs no= 46 \t\t Slope Loss of b is: -1.7160789826247225 \tb b value is: -2.302704501297856 \n",
      "\n",
      "epochs no= 46 \t\t Slope Loss of m is: 3.1579106758496636 \tb m value is: 27.843691478772474 \n",
      "\n",
      "epochs no= 47 \t\t Slope Loss of b is: -1.409752250909989 \tb b value is: -2.301294749046946 \n",
      "\n",
      "epochs no= 47 \t\t Slope Loss of m is: 2.627304350596731 \tb m value is: 27.841064174421877 \n",
      "\n",
      "epochs no= 48 \t\t Slope Loss of b is: -1.1584925993012902 \tb b value is: -2.300136256447645 \n",
      "\n",
      "epochs no= 48 \t\t Slope Loss of m is: 2.185642808457743 \tb m value is: 27.83887853161342 \n",
      "\n",
      "epochs no= 49 \t\t Slope Loss of b is: -0.9523256183253039 \tb b value is: -2.2991839308293196 \n",
      "\n",
      "epochs no= 49 \t\t Slope Loss of m is: 1.818059793370221 \tb m value is: 27.837060471820052 \n",
      "\n",
      "\n",
      "\n",
      " the Value of b is: -2.2991839308293196\n",
      "\n",
      "\n",
      " the Value of m is: 27.837060471820052\n"
     ]
    }
   ],
   "source": [
    "gd.fit(x,y)"
   ]
  },
  {
   "cell_type": "code",
   "execution_count": 40,
   "metadata": {},
   "outputs": [
    {
     "data": {
      "text/plain": [
       "array([[-22.13004587],\n",
       "       [-14.46803398],\n",
       "       [-14.93031641],\n",
       "       [ 24.22481941],\n",
       "       [  4.3220791 ],\n",
       "       [ 21.67440917],\n",
       "       [ -9.07267152],\n",
       "       [  2.84916767],\n",
       "       [-22.36969544],\n",
       "       [-14.266255  ],\n",
       "       [ 53.79864004],\n",
       "       [  8.75884689],\n",
       "       [  3.48535872],\n",
       "       [ -8.76923699],\n",
       "       [-23.69550079],\n",
       "       [ 10.31541979],\n",
       "       [ 15.51330493],\n",
       "       [  7.70913832],\n",
       "       [-47.25904197],\n",
       "       [ 46.39456556],\n",
       "       [-24.26231913],\n",
       "       [-16.55078722],\n",
       "       [-28.14130775],\n",
       "       [ 57.56115677],\n",
       "       [ -8.07119002],\n",
       "       [-47.92672634],\n",
       "       [-11.72532075],\n",
       "       [-11.26615965],\n",
       "       [-15.69914914],\n",
       "       [-16.86253782],\n",
       "       [ 17.79820103],\n",
       "       [ 19.02152826],\n",
       "       [ 10.32439521],\n",
       "       [-37.41858492],\n",
       "       [-63.18204405],\n",
       "       [-35.29775901],\n",
       "       [  3.75403106],\n",
       "       [ 34.73292872],\n",
       "       [-32.56312362],\n",
       "       [ 13.35252918],\n",
       "       [-44.41234489],\n",
       "       [ -2.36568738],\n",
       "       [-10.04163129],\n",
       "       [ 10.27794346],\n",
       "       [ 30.84655074],\n",
       "       [ 23.3761659 ],\n",
       "       [ 20.3878935 ],\n",
       "       [-19.58543346],\n",
       "       [ 23.13667133],\n",
       "       [ 29.38866195],\n",
       "       [ 38.86308036],\n",
       "       [-20.42268251],\n",
       "       [-12.76369062],\n",
       "       [-23.86344212],\n",
       "       [ 11.65100525],\n",
       "       [ 35.28607828],\n",
       "       [ 17.99863937],\n",
       "       [ -4.57212324],\n",
       "       [-26.07601298],\n",
       "       [ 10.6633652 ],\n",
       "       [ -3.53801881],\n",
       "       [ -3.90071649],\n",
       "       [ 50.38919567],\n",
       "       [-31.39941033],\n",
       "       [ 13.41913163],\n",
       "       [-55.86212687],\n",
       "       [-23.56764375],\n",
       "       [  1.24456518],\n",
       "       [ -3.04442797],\n",
       "       [ -6.34144058],\n",
       "       [ 13.36881607],\n",
       "       [  6.5349329 ],\n",
       "       [ 17.49226443],\n",
       "       [ 18.68345633],\n",
       "       [-12.60212758],\n",
       "       [ 35.14449367],\n",
       "       [ 12.51953806],\n",
       "       [-29.69532713],\n",
       "       [ 35.28936573],\n",
       "       [-11.94769804],\n",
       "       [ 12.01821951],\n",
       "       [  0.51986922],\n",
       "       [-20.60253187],\n",
       "       [ 20.83078711],\n",
       "       [-11.13093595],\n",
       "       [-29.58713941],\n",
       "       [ 36.65150059],\n",
       "       [ 12.95325119],\n",
       "       [-17.06194005],\n",
       "       [ 11.36524495],\n",
       "       [  7.40900744],\n",
       "       [ 54.86959888],\n",
       "       [ 14.57811007],\n",
       "       [-13.00135576],\n",
       "       [-56.45314197],\n",
       "       [-11.06390724],\n",
       "       [ 49.18859292],\n",
       "       [-33.49080147],\n",
       "       [-11.5598996 ],\n",
       "       [-23.38445518]])"
      ]
     },
     "execution_count": 40,
     "metadata": {},
     "output_type": "execute_result"
    }
   ],
   "source": [
    "gd.predict(x)"
   ]
  },
  {
   "cell_type": "code",
   "execution_count": 41,
   "metadata": {},
   "outputs": [
    {
     "name": "stdout",
     "output_type": "stream",
     "text": [
      "epochs no= 0 \t\t Slope Loss of b is: -6.848320913489971 \tb b value is: -2.2923356099158294 \n",
      "\n",
      "epochs no= 0 \t\t Slope Loss of m is: -44.07414067726647 \tb m value is: 27.88113461249732 \n",
      "\n",
      "epochs no= 1 \t\t Slope Loss of b is: -5.39543553972608 \tb b value is: -2.2869401743761033 \n",
      "\n",
      "epochs no= 1 \t\t Slope Loss of m is: -37.32988420144089 \tb m value is: 27.91846449669876 \n",
      "\n",
      "epochs no= 2 \t\t Slope Loss of b is: -4.229663790080053 \tb b value is: -2.282710510586023 \n",
      "\n",
      "epochs no= 2 \t\t Slope Loss of m is: -31.62092017563819 \tb m value is: 27.950085416874398 \n",
      "\n",
      "epochs no= 3 \t\t Slope Loss of b is: -3.2966780104439266 \tb b value is: -2.279413832575579 \n",
      "\n",
      "epochs no= 3 \t\t Slope Loss of m is: -26.787804361633277 \tb m value is: 27.97687322123603 \n",
      "\n",
      "epochs no= 4 \t\t Slope Loss of b is: -2.5521350249607337 \tb b value is: -2.2768616975506184 \n",
      "\n",
      "epochs no= 4 \t\t Slope Loss of m is: -22.695730273912872 \tb m value is: 27.999568951509943 \n",
      "\n",
      "epochs no= 5 \t\t Slope Loss of b is: -1.9598789679064907 \tb b value is: -2.274901818582712 \n",
      "\n",
      "epochs no= 5 \t\t Slope Loss of m is: -19.230709206351477 \tb m value is: 28.018799660716294 \n",
      "\n",
      "epochs no= 6 \t\t Slope Loss of b is: -1.4904626175580233 \tb b value is: -2.273411355965154 \n",
      "\n",
      "epochs no= 6 \t\t Slope Loss of m is: -16.296344547395165 \tb m value is: 28.03509600526369 \n",
      "\n",
      "epochs no= 7 \t\t Slope Loss of b is: -1.1199314559228242 \tb b value is: -2.2722914245092314 \n",
      "\n",
      "epochs no= 7 \t\t Slope Loss of m is: -13.81110761261317 \tb m value is: 28.048907112876304 \n",
      "\n",
      "epochs no= 8 \t\t Slope Loss of b is: -0.8288243541541789 \tb b value is: -2.2714626001550773 \n",
      "\n",
      "epochs no= 8 \t\t Slope Loss of m is: -11.706036754558497 \tb m value is: 28.06061314963086 \n",
      "\n",
      "epochs no= 9 \t\t Slope Loss of b is: -0.6013527935245548 \tb b value is: -2.2708612473615526 \n",
      "\n",
      "epochs no= 9 \t\t Slope Loss of m is: -9.922793757278683 \tb m value is: 28.07053594338814 \n",
      "\n",
      "epochs no= 10 \t\t Slope Loss of b is: -0.4247271610143173 \tb b value is: -2.2704365202005383 \n",
      "\n",
      "epochs no= 10 \t\t Slope Loss of m is: -8.41202184663382 \tb m value is: 28.078947965234775 \n",
      "\n",
      "epochs no= 11 \t\t Slope Loss of b is: -0.2886041434426687 \tb b value is: -2.2701479160570956 \n",
      "\n",
      "epochs no= 11 \t\t Slope Loss of m is: -7.131958350918737 \tb m value is: 28.086079923585693 \n",
      "\n",
      "epochs no= 12 \t\t Slope Loss of b is: -0.18463378081655435 \tb b value is: -2.269963282276279 \n",
      "\n",
      "epochs no= 12 \t\t Slope Loss of m is: -6.047262384328704 \tb m value is: 28.09212718597002 \n",
      "\n",
      "epochs no= 13 \t\t Slope Loss of b is: -0.1060884909919082 \tb b value is: -2.269857193785287 \n",
      "\n",
      "epochs no= 13 \t\t Slope Loss of m is: -5.1280241134823115 \tb m value is: 28.097255210083503 \n",
      "\n",
      "epochs no= 14 \t\t Slope Loss of b is: -0.04755947877879407 \tb b value is: -2.269809634306508 \n",
      "\n",
      "epochs no= 14 \t\t Slope Loss of m is: -4.348927385414896 \tb m value is: 28.101604137468918 \n",
      "\n",
      "epochs no= 15 \t\t Slope Loss of b is: -0.004708505220094139 \tb b value is: -2.2698049258012882 \n",
      "\n",
      "epochs no= 15 \t\t Slope Loss of m is: -3.6885418966126053 \tb m value is: 28.10529267936553 \n",
      "\n",
      "epochs no= 16 \t\t Slope Loss of b is: 0.025934890318438875 \tb b value is: -2.2698308606916067 \n",
      "\n",
      "epochs no= 16 \t\t Slope Loss of m is: -3.1287247951270274 \tb m value is: 28.108421404160655 \n",
      "\n",
      "epochs no= 17 \t\t Slope Loss of b is: 0.04713887448689036 \tb b value is: -2.2698779995660936 \n",
      "\n",
      "epochs no= 17 \t\t Slope Loss of m is: -2.65411473970417 \tb m value is: 28.11107551890036 \n",
      "\n",
      "epochs no= 18 \t\t Slope Loss of b is: 0.0611042269106008 \tb b value is: -2.2699391037930043 \n",
      "\n",
      "epochs no= 18 \t\t Slope Loss of m is: -2.2517040822990424 \tb m value is: 28.113327222982658 \n",
      "\n",
      "epochs no= 19 \t\t Slope Loss of b is: 0.06957419522714758 \tb b value is: -2.2700086779882316 \n",
      "\n",
      "epochs no= 19 \t\t Slope Loss of m is: -1.910477070067941 \tb m value is: 28.115237700052727 \n",
      "\n",
      "epochs no= 20 \t\t Slope Loss of b is: 0.07392384149152065 \tb b value is: -2.2700826018297233 \n",
      "\n",
      "epochs no= 20 \t\t Slope Loss of m is: -1.6211038445974708 \tb m value is: 28.116858803897326 \n",
      "\n",
      "epochs no= 21 \t\t Slope Loss of b is: 0.07523261348538313 \tb b value is: -2.2701578344432085 \n",
      "\n",
      "epochs no= 21 \t\t Slope Loss of m is: -1.3756816043221676 \tb m value is: 28.11823448550165 \n",
      "\n",
      "epochs no= 22 \t\t Slope Loss of b is: 0.07434320713167608 \tb b value is: -2.2702321776503402 \n",
      "\n",
      "epochs no= 22 \t\t Slope Loss of m is: -1.1675156366137145 \tb m value is: 28.119402001138262 \n",
      "\n",
      "epochs no= 23 \t\t Slope Loss of b is: 0.07190923651840819 \tb b value is: -2.2703040868868585 \n",
      "\n",
      "epochs no= 23 \t\t Slope Loss of m is: -0.9909340577823542 \tb m value is: 28.120392935196044 \n",
      "\n",
      "epochs no= 24 \t\t Slope Loss of b is: 0.06843377546947238 \tb b value is: -2.270372520662328 \n",
      "\n",
      "epochs no= 24 \t\t Slope Loss of m is: -0.8411310547183319 \tb m value is: 28.12123406625076 \n",
      "\n",
      "epochs no= 25 \t\t Slope Loss of b is: 0.06430046217514018 \tb b value is: -2.270436821124503 \n",
      "\n",
      "epochs no= 25 \t\t Slope Loss of m is: -0.7140342287533059 \tb m value is: 28.121948100479514 \n",
      "\n",
      "epochs no= 26 \t\t Slope Loss of b is: 0.05979855210303242 \tb b value is: -2.270496619676606 \n",
      "\n",
      "epochs no= 26 \t\t Slope Loss of m is: -0.6061923236797924 \tb m value is: 28.122554292803194 \n",
      "\n",
      "epochs no= 27 \t\t Slope Loss of b is: 0.05514305265198516 \tb b value is: -2.270551762729258 \n",
      "\n",
      "epochs no= 27 \t\t Slope Loss of m is: -0.5146801953632689 \tb m value is: 28.123068972998556 \n",
      "\n",
      "epochs no= 28 \t\t Slope Loss of b is: 0.050490866183068306 \tb b value is: -2.2706022535954413 \n",
      "\n",
      "epochs no= 28 \t\t Slope Loss of m is: -0.4370183664726994 \tb m value is: 28.12350599136503 \n",
      "\n",
      "epochs no= 29 \t\t Slope Loss of b is: 0.04595369827781326 \tb b value is: -2.270648207293719 \n",
      "\n",
      "epochs no= 29 \t\t Slope Loss of m is: -0.37110492053000144 \tb m value is: 28.123877096285558 \n",
      "\n",
      "epochs no= 30 \t\t Slope Loss of b is: 0.04160834878210551 \tb b value is: -2.270689815642501 \n",
      "\n",
      "epochs no= 30 \t\t Slope Loss of m is: -0.3151578364275025 \tb m value is: 28.124192254121986 \n",
      "\n",
      "epochs no= 31 \t\t Slope Loss of b is: 0.0375048889885079 \tb b value is: -2.2707273205314897 \n",
      "\n",
      "epochs no= 31 \t\t Slope Loss of m is: -0.2676661577417718 \tb m value is: 28.12445992027973 \n",
      "\n",
      "epochs no= 32 \t\t Slope Loss of b is: 0.03367313477507139 \tb b value is: -2.270760993666265 \n",
      "\n",
      "epochs no= 32 \t\t Slope Loss of m is: -0.22734863893656154 \tb m value is: 28.124687268918667 \n",
      "\n",
      "epochs no= 33 \t\t Slope Loss of b is: 0.030127748927711195 \tb b value is: -2.2707911214151926 \n",
      "\n",
      "epochs no= 33 \t\t Slope Loss of m is: -0.19311871993461693 \tb m value is: 28.1248803876386 \n",
      "\n",
      "epochs no= 34 \t\t Slope Loss of b is: 0.02687224326628268 \tb b value is: -2.2708179936584587 \n",
      "\n",
      "epochs no= 34 \t\t Slope Loss of m is: -0.16405485755221605 \tb m value is: 28.125044442496154 \n",
      "\n",
      "epochs no= 35 \t\t Slope Loss of b is: 0.023902100010644745 \tb b value is: -2.2708418957584695 \n",
      "\n",
      "epochs no= 35 \t\t Slope Loss of m is: -0.13937539191323367 \tb m value is: 28.125183817888068 \n",
      "\n",
      "epochs no= 36 \t\t Slope Loss of b is: 0.021207190058035508 \tb b value is: -2.2708631029485273 \n",
      "\n",
      "epochs no= 36 \t\t Slope Loss of m is: -0.11841725246982548 \tb m value is: 28.125302235140538 \n",
      "\n",
      "epochs no= 37 \t\t Slope Loss of b is: 0.018773631781641598 \tb b value is: -2.270881876580309 \n",
      "\n",
      "epochs no= 37 \t\t Slope Loss of m is: -0.1006179152269624 \tb m value is: 28.125402853055764 \n",
      "\n",
      "epochs no= 38 \t\t Slope Loss of b is: 0.01658520621170112 \tb b value is: -2.2708984617865204 \n",
      "\n",
      "epochs no= 38 \t\t Slope Loss of m is: -0.08550011323058015 \tb m value is: 28.125488353168993 \n",
      "\n",
      "epochs no= 39 \t\t Slope Loss of b is: 0.014624421889010364 \tb b value is: -2.2709130862084095 \n",
      "\n",
      "epochs no= 39 \t\t Slope Loss of m is: -0.07265887888327427 \tb m value is: 28.125561012047875 \n",
      "\n",
      "epochs no= 40 \t\t Slope Loss of b is: 0.012873304340033087 \tb b value is: -2.2709259595127493 \n",
      "\n",
      "epochs no= 40 \t\t Slope Loss of m is: -0.06175056136873991 \tb m value is: 28.125622762609243 \n",
      "\n",
      "epochs no= 41 \t\t Slope Loss of b is: 0.011313970239029914 \tb b value is: -2.2709372734829882 \n",
      "\n",
      "epochs no= 41 \t\t Slope Loss of m is: -0.052483517204777286 \tb m value is: 28.12567524612645 \n",
      "\n",
      "epochs no= 42 \t\t Slope Loss of b is: 0.009929034263890912 \tb b value is: -2.2709472025172524 \n",
      "\n",
      "epochs no= 42 \t\t Slope Loss of m is: -0.04461021826861611 \tb m value is: 28.125719856344716 \n",
      "\n",
      "epochs no= 43 \t\t Slope Loss of b is: 0.008701886904646017 \tb b value is: -2.270955904404157 \n",
      "\n",
      "epochs no= 43 \t\t Slope Loss of m is: -0.03792056081464068 \tb m value is: 28.12575777690553 \n",
      "\n",
      "epochs no= 44 \t\t Slope Loss of b is: 0.007616873600753138 \tb b value is: -2.270963521277758 \n",
      "\n",
      "epochs no= 44 \t\t Slope Loss of m is: -0.032236192178558554 \tb m value is: 28.12579001309771 \n",
      "\n",
      "epochs no= 45 \t\t Slope Loss of b is: 0.006659399243801545 \tb b value is: -2.2709701806770015 \n",
      "\n",
      "epochs no= 45 \t\t Slope Loss of m is: -0.027405699921430937 \tb m value is: 28.12581741879763 \n",
      "\n",
      "epochs no= 46 \t\t Slope Loss of b is: 0.005815976974417936 \tb b value is: -2.2709759966539758 \n",
      "\n",
      "epochs no= 46 \t\t Slope Loss of m is: -0.023300531925102064 \tb m value is: 28.125840719329556 \n",
      "\n",
      "epochs no= 47 \t\t Slope Loss of b is: 0.005074236111227037 \tb b value is: -2.270981070890087 \n",
      "\n",
      "epochs no= 47 \t\t Slope Loss of m is: -0.019811536052500855 \tb m value is: 28.12586053086561 \n",
      "\n",
      "epochs no= 48 \t\t Slope Loss of b is: 0.004422900769057492 \tb b value is: -2.2709854937908562 \n",
      "\n",
      "epochs no= 48 \t\t Slope Loss of m is: -0.016846025022047684 \tb m value is: 28.12587737689063 \n",
      "\n",
      "epochs no= 49 \t\t Slope Loss of b is: 0.0038517481149256128 \tb b value is: -2.2709893455389714 \n",
      "\n",
      "epochs no= 49 \t\t Slope Loss of m is: -0.01432528654659393 \tb m value is: 28.125891702177178 \n",
      "\n",
      "\n",
      "\n",
      " the Value of b is: -2.2709893455389714\n",
      "\n",
      "\n",
      " the Value of m is: 28.125891702177178\n"
     ]
    }
   ],
   "source": [
    "from sklearn.model_selection import train_test_split\n",
    "\n",
    "x_train,x_test, y_train, y_test= train_test_split(x,y,test_size=0.2,random_state=2)\n",
    "\n",
    "gd.fit(x_train,y_train)"
   ]
  },
  {
   "cell_type": "code",
   "execution_count": 42,
   "metadata": {},
   "outputs": [
    {
     "data": {
      "text/plain": [
       "array([[ 21.0989732 ],\n",
       "       [ 18.03492167],\n",
       "       [ 18.23743972],\n",
       "       [ -8.1028845 ],\n",
       "       [ 15.72631799],\n",
       "       [ 58.21044911],\n",
       "       [-15.03317968],\n",
       "       [-11.33100444],\n",
       "       [-15.80998965],\n",
       "       [ -8.80817425],\n",
       "       [-23.57503674],\n",
       "       [ 14.78141976],\n",
       "       [ 12.70148845],\n",
       "       [-23.88930969],\n",
       "       [-22.30761196],\n",
       "       [-16.67046414],\n",
       "       [ 24.52822123],\n",
       "       [-16.9854494 ],\n",
       "       [ -3.88913906],\n",
       "       [-12.01961432]])"
      ]
     },
     "execution_count": 42,
     "metadata": {},
     "output_type": "execute_result"
    }
   ],
   "source": [
    "y_pred=gd.predict(x_test)\n",
    "y_pred"
   ]
  },
  {
   "cell_type": "code",
   "execution_count": 43,
   "metadata": {},
   "outputs": [],
   "source": [
    "from sklearn.metrics import r2_score"
   ]
  },
  {
   "cell_type": "code",
   "execution_count": 44,
   "metadata": {},
   "outputs": [
    {
     "data": {
      "text/plain": [
       "0.6345162275128353"
      ]
     },
     "execution_count": 44,
     "metadata": {},
     "output_type": "execute_result"
    }
   ],
   "source": [
    "r2_score(y_test,y_pred)"
   ]
  },
  {
   "cell_type": "code",
   "execution_count": null,
   "metadata": {},
   "outputs": [],
   "source": []
  }
 ],
 "metadata": {
  "kernelspec": {
   "display_name": "Python 3",
   "language": "python",
   "name": "python3"
  },
  "language_info": {
   "codemirror_mode": {
    "name": "ipython",
    "version": 3
   },
   "file_extension": ".py",
   "mimetype": "text/x-python",
   "name": "python",
   "nbconvert_exporter": "python",
   "pygments_lexer": "ipython3",
   "version": "3.11.4"
  },
  "orig_nbformat": 4
 },
 "nbformat": 4,
 "nbformat_minor": 2
}
