{
 "cells": [
  {
   "cell_type": "code",
   "execution_count": 15,
   "metadata": {},
   "outputs": [],
   "source": [
    "from sklearn.datasets import make_regression\n",
    "import pandas as pd\n",
    "import numpy as np\n",
    "\n",
    "import plotly.express as px\n",
    "import plotly .graph_objects as go\n",
    "from sklearn.metrics import mean_absolute_error, mean_squared_error,r2_score"
   ]
  },
  {
   "cell_type": "code",
   "execution_count": 16,
   "metadata": {},
   "outputs": [],
   "source": [
    "x, y = make_regression( n_samples=100, n_features=2, n_informative=2, n_targets=1, noise=50)"
   ]
  },
  {
   "cell_type": "code",
   "execution_count": 17,
   "metadata": {},
   "outputs": [],
   "source": [
    "df=pd.DataFrame({'feature1':x[:,0], 'feature2':x[:,1],'target':y})"
   ]
  },
  {
   "cell_type": "code",
   "execution_count": 18,
   "metadata": {},
   "outputs": [
    {
     "data": {
      "text/html": [
       "<div>\n",
       "<style scoped>\n",
       "    .dataframe tbody tr th:only-of-type {\n",
       "        vertical-align: middle;\n",
       "    }\n",
       "\n",
       "    .dataframe tbody tr th {\n",
       "        vertical-align: top;\n",
       "    }\n",
       "\n",
       "    .dataframe thead th {\n",
       "        text-align: right;\n",
       "    }\n",
       "</style>\n",
       "<table border=\"1\" class=\"dataframe\">\n",
       "  <thead>\n",
       "    <tr style=\"text-align: right;\">\n",
       "      <th></th>\n",
       "      <th>feature1</th>\n",
       "      <th>feature2</th>\n",
       "      <th>target</th>\n",
       "    </tr>\n",
       "  </thead>\n",
       "  <tbody>\n",
       "    <tr>\n",
       "      <th>0</th>\n",
       "      <td>-2.014971</td>\n",
       "      <td>-0.512349</td>\n",
       "      <td>-55.814628</td>\n",
       "    </tr>\n",
       "    <tr>\n",
       "      <th>1</th>\n",
       "      <td>1.456331</td>\n",
       "      <td>-1.968108</td>\n",
       "      <td>-137.067282</td>\n",
       "    </tr>\n",
       "    <tr>\n",
       "      <th>2</th>\n",
       "      <td>-0.046240</td>\n",
       "      <td>0.252348</td>\n",
       "      <td>19.457856</td>\n",
       "    </tr>\n",
       "    <tr>\n",
       "      <th>3</th>\n",
       "      <td>-0.971223</td>\n",
       "      <td>-0.883069</td>\n",
       "      <td>-123.800616</td>\n",
       "    </tr>\n",
       "    <tr>\n",
       "      <th>4</th>\n",
       "      <td>0.431474</td>\n",
       "      <td>-1.919066</td>\n",
       "      <td>-210.482322</td>\n",
       "    </tr>\n",
       "    <tr>\n",
       "      <th>...</th>\n",
       "      <td>...</td>\n",
       "      <td>...</td>\n",
       "      <td>...</td>\n",
       "    </tr>\n",
       "    <tr>\n",
       "      <th>95</th>\n",
       "      <td>0.594064</td>\n",
       "      <td>1.759566</td>\n",
       "      <td>180.051394</td>\n",
       "    </tr>\n",
       "    <tr>\n",
       "      <th>96</th>\n",
       "      <td>-0.668425</td>\n",
       "      <td>0.495872</td>\n",
       "      <td>35.826605</td>\n",
       "    </tr>\n",
       "    <tr>\n",
       "      <th>97</th>\n",
       "      <td>0.061039</td>\n",
       "      <td>-1.288349</td>\n",
       "      <td>-55.804248</td>\n",
       "    </tr>\n",
       "    <tr>\n",
       "      <th>98</th>\n",
       "      <td>0.608631</td>\n",
       "      <td>-0.233154</td>\n",
       "      <td>60.040781</td>\n",
       "    </tr>\n",
       "    <tr>\n",
       "      <th>99</th>\n",
       "      <td>0.804021</td>\n",
       "      <td>1.418290</td>\n",
       "      <td>86.953387</td>\n",
       "    </tr>\n",
       "  </tbody>\n",
       "</table>\n",
       "<p>100 rows × 3 columns</p>\n",
       "</div>"
      ],
      "text/plain": [
       "    feature1  feature2      target\n",
       "0  -2.014971 -0.512349  -55.814628\n",
       "1   1.456331 -1.968108 -137.067282\n",
       "2  -0.046240  0.252348   19.457856\n",
       "3  -0.971223 -0.883069 -123.800616\n",
       "4   0.431474 -1.919066 -210.482322\n",
       "..       ...       ...         ...\n",
       "95  0.594064  1.759566  180.051394\n",
       "96 -0.668425  0.495872   35.826605\n",
       "97  0.061039 -1.288349  -55.804248\n",
       "98  0.608631 -0.233154   60.040781\n",
       "99  0.804021  1.418290   86.953387\n",
       "\n",
       "[100 rows x 3 columns]"
      ]
     },
     "execution_count": 18,
     "metadata": {},
     "output_type": "execute_result"
    }
   ],
   "source": [
    "df"
   ]
  },
  {
   "cell_type": "code",
   "execution_count": 19,
   "metadata": {},
   "outputs": [
    {
     "data": {
      "text/plain": [
       "(100, 3)"
      ]
     },
     "execution_count": 19,
     "metadata": {},
     "output_type": "execute_result"
    }
   ],
   "source": [
    "df.shape"
   ]
  },
  {
   "cell_type": "code",
   "execution_count": 20,
   "metadata": {},
   "outputs": [
    {
     "data": {
      "application/vnd.plotly.v1+json": {
       "config": {
        "plotlyServerURL": "https://plot.ly"
       },
       "data": [
        {
         "hovertemplate": "feature1=%{x}<br>feature2=%{y}<br>target=%{z}<extra></extra>",
         "legendgroup": "",
         "marker": {
          "color": "#636efa",
          "symbol": "circle"
         },
         "mode": "markers",
         "name": "",
         "scene": "scene",
         "showlegend": false,
         "type": "scatter3d",
         "x": [
          -2.0149709978851047,
          1.456330726723294,
          -0.04624005777810384,
          -0.9712225790157211,
          0.43147436350324403,
          -0.9285783155073598,
          1.8357586027853594,
          1.9166827257704508,
          -1.2378240347341058,
          -0.2340424995367024,
          0.22681906603338045,
          -0.9376913627588414,
          1.0908175760668253,
          -0.41167622687355343,
          -0.012749888249579731,
          -0.48881267854814087,
          1.5933925560649194,
          1.322143912756795,
          -0.251465117921916,
          1.8353775974762916,
          -0.5322326698915173,
          -0.5433351202619745,
          0.8355873652828294,
          0.35772323686326424,
          0.017585882847877432,
          2.5072970409486097,
          2.5328615233497516,
          -0.5351234832181319,
          0.25558676952961706,
          0.06441488337715708,
          0.3668274745867404,
          0.723876610571997,
          1.654956808719808,
          0.3898221773254726,
          0.10547489348988748,
          -1.2125360027612109,
          -0.09078334077970687,
          -0.12862119109904943,
          0.11099681546678425,
          0.1923472176133931,
          1.9018838247175591,
          -1.4413336658520894,
          -1.4797406954167622,
          -0.7122660879297901,
          -1.478146160946163,
          -2.293187036859088,
          0.9107231441751964,
          0.32123235585150367,
          0.8640221629099278,
          -1.0915013201265922,
          0.08325737912867794,
          0.6270266238121253,
          0.10265865503560506,
          -1.0335552753624047,
          0.3729187651715097,
          -0.7277202949898596,
          0.840634076009777,
          0.7201363183943944,
          -0.902901408081259,
          0.3794562514669776,
          1.0825168694718459,
          -1.8582501627447179,
          -2.3608161688004765,
          -0.7211384242817178,
          -0.6160849120492988,
          -0.4491522738219934,
          -0.7967596637156387,
          0.7549274341895607,
          1.0632481750841138,
          -0.08034766380361123,
          0.09426830750711832,
          -1.1415822257831318,
          -0.6548013467528988,
          -1.312663082732824,
          -0.20970120308992132,
          1.3092728819413588,
          -2.4554051987035943,
          1.5221018923766825,
          -0.1141930602083163,
          -0.13728910361016974,
          -0.9640042072898413,
          -0.3387100777084013,
          -1.9013668965020922,
          -2.251524726182774,
          1.8574933938194151,
          2.491540492915529,
          -0.00977860269717957,
          0.27177326077473907,
          -0.05555913103767565,
          -0.32889764336260646,
          -0.3276844615780469,
          -1.9737313740552251,
          -0.7421963781994465,
          -1.2135120817534988,
          -1.158525170645666,
          0.5940639614218295,
          -0.6684251634972713,
          0.06103897030632776,
          0.6086312594300659,
          0.8040212973270116
         ],
         "y": [
          -0.512348616810927,
          -1.9681084554953998,
          0.2523483357978345,
          -0.8830688772847719,
          -1.919065602584427,
          -0.6936550414584054,
          0.6158704240345715,
          -1.9106842874815675,
          -0.2758544104188605,
          0.13455215087488673,
          0.3777187391221774,
          -0.9819383022176428,
          -0.3984791144236106,
          -1.1517097412690875,
          0.8160004281267933,
          -0.18847213789797895,
          0.5931310565872,
          -1.3597176025651239,
          -0.5953330188227688,
          -1.2024459423763076,
          -0.9610267393861288,
          0.9045698013601221,
          0.24833165642280997,
          -0.5928244434288406,
          -0.5639214003546525,
          -0.8403906778081159,
          -0.6043042440592188,
          -1.5410802706500901,
          -0.5890730136898292,
          2.102037023163255,
          -0.31661991256728306,
          0.43135690772812807,
          0.8754609138850441,
          0.3825553177964371,
          -0.39250422316697176,
          0.3673603105647114,
          -1.0110995839546997,
          -0.5206208709722308,
          0.3416866861192512,
          1.8540693407906828,
          0.5314563558386176,
          0.1397342495222427,
          0.10860575806981017,
          -0.7877051296360874,
          -0.24452862058351932,
          1.2936022947878754,
          -1.0106312483587518,
          0.7200469807580807,
          0.31365187253130566,
          -0.5111094505983921,
          0.18688218213318383,
          0.1708019001055381,
          -0.3232556656287495,
          -1.3103127496255254,
          0.7511047628797126,
          1.0190431754104574,
          -0.030837177931662293,
          0.2026079510733603,
          -1.9133558593709137,
          -0.8191833847296643,
          -1.3700309161648958,
          0.9902230310436128,
          0.2569767826993421,
          -0.008047665729084545,
          -1.0278238890104343,
          -1.932242960485033,
          -0.06390359180829522,
          0.07047211100277455,
          -0.20852353771786214,
          1.0956151869785196,
          -0.6049965413862056,
          -0.5253108865628159,
          0.7671765338393834,
          1.3270791792870158,
          0.270506955444413,
          0.045354788822201994,
          0.3277869622889988,
          0.5625860639885134,
          -1.2390008575375941,
          -0.9602858044064241,
          2.0569388330077603,
          0.24379720252284423,
          0.7601548198813727,
          -2.0590709917999614,
          0.043341221336938344,
          -0.13618602374176567,
          0.15218920052751525,
          -2.24489502824481,
          -0.4389870929664573,
          0.4271969289771436,
          -1.5366524585731354,
          0.40968332262239593,
          -0.4445350557260948,
          -1.032006501879662,
          0.13023406571229162,
          1.7595659599990514,
          0.49587233383008944,
          -1.2883494173254604,
          -0.2331539426031012,
          1.4182900629272028
         ],
         "z": [
          -55.814628294546466,
          -137.0672818258538,
          19.45785624688875,
          -123.80061565411096,
          -210.4823216091454,
          -108.62433430189103,
          124.5397627083479,
          -145.73954259271557,
          -96.6262932881321,
          -21.534638785634577,
          116.98405243626416,
          -176.83956813684426,
          -25.161380527727022,
          -165.2416371504836,
          -2.490496775190593,
          -55.191844229116484,
          198.88855645474553,
          -63.392971614901526,
          -105.84417876632136,
          31.513242868462967,
          -18.023794808550534,
          11.03374142625323,
          122.74982494794502,
          -9.735120672986447,
          70.11867092329962,
          111.28185670540908,
          122.45234848368818,
          -185.1946181611449,
          -61.85108899095661,
          164.53752767912553,
          -5.142879870836641,
          105.62325453181862,
          46.44658915861761,
          78.21664814748283,
          25.040295485814998,
          -42.97646476209104,
          -70.37278218891137,
          66.75349822477199,
          73.11468683007706,
          178.60831669881838,
          158.3891861159106,
          -106.87103073269986,
          -31.330263157331814,
          -185.64999816333108,
          -109.34554434490445,
          -32.490836170837426,
          -95.65969607213376,
          114.18839002615647,
          61.145322301959666,
          -92.64788929666327,
          -82.57506463397684,
          53.35628999916323,
          -60.46721309084022,
          -119.7550429221802,
          127.69545357575853,
          154.15229175152086,
          52.726584084418484,
          50.70933205184376,
          -238.81911115770865,
          -154.38898344646475,
          -28.383845938077904,
          -6.584674168164195,
          -113.68730806745424,
          70.02093318847369,
          -84.82367181315794,
          -106.42649677665271,
          21.0126482583377,
          21.033606532459824,
          1.4595338475119561,
          203.28609781913417,
          -122.84016878621243,
          -131.9923369540421,
          54.65384952009397,
          54.006665822791405,
          52.456585079262005,
          31.72884610601769,
          -4.832308128269958,
          136.14235739211693,
          -137.68805182267064,
          -18.852302353765268,
          40.10902831084887,
          -116.25862600548744,
          -53.06452084323246,
          -280.7659886509998,
          86.46223380461188,
          185.51105520264377,
          -36.11622126264428,
          -278.5088952566173,
          -127.24219195577795,
          50.170495094983536,
          -141.52458392049894,
          -153.91574432648292,
          -41.363618013195406,
          -97.1136314174127,
          -102.4043462968846,
          180.05139441270933,
          35.826604536913464,
          -55.8042478051117,
          60.04078054954117,
          86.95338721931405
         ]
        }
       ],
       "layout": {
        "legend": {
         "tracegroupgap": 0
        },
        "margin": {
         "t": 60
        },
        "scene": {
         "domain": {
          "x": [
           0,
           1
          ],
          "y": [
           0,
           1
          ]
         },
         "xaxis": {
          "title": {
           "text": "feature1"
          }
         },
         "yaxis": {
          "title": {
           "text": "feature2"
          }
         },
         "zaxis": {
          "title": {
           "text": "target"
          }
         }
        },
        "template": {
         "data": {
          "bar": [
           {
            "error_x": {
             "color": "#2a3f5f"
            },
            "error_y": {
             "color": "#2a3f5f"
            },
            "marker": {
             "line": {
              "color": "#E5ECF6",
              "width": 0.5
             },
             "pattern": {
              "fillmode": "overlay",
              "size": 10,
              "solidity": 0.2
             }
            },
            "type": "bar"
           }
          ],
          "barpolar": [
           {
            "marker": {
             "line": {
              "color": "#E5ECF6",
              "width": 0.5
             },
             "pattern": {
              "fillmode": "overlay",
              "size": 10,
              "solidity": 0.2
             }
            },
            "type": "barpolar"
           }
          ],
          "carpet": [
           {
            "aaxis": {
             "endlinecolor": "#2a3f5f",
             "gridcolor": "white",
             "linecolor": "white",
             "minorgridcolor": "white",
             "startlinecolor": "#2a3f5f"
            },
            "baxis": {
             "endlinecolor": "#2a3f5f",
             "gridcolor": "white",
             "linecolor": "white",
             "minorgridcolor": "white",
             "startlinecolor": "#2a3f5f"
            },
            "type": "carpet"
           }
          ],
          "choropleth": [
           {
            "colorbar": {
             "outlinewidth": 0,
             "ticks": ""
            },
            "type": "choropleth"
           }
          ],
          "contour": [
           {
            "colorbar": {
             "outlinewidth": 0,
             "ticks": ""
            },
            "colorscale": [
             [
              0,
              "#0d0887"
             ],
             [
              0.1111111111111111,
              "#46039f"
             ],
             [
              0.2222222222222222,
              "#7201a8"
             ],
             [
              0.3333333333333333,
              "#9c179e"
             ],
             [
              0.4444444444444444,
              "#bd3786"
             ],
             [
              0.5555555555555556,
              "#d8576b"
             ],
             [
              0.6666666666666666,
              "#ed7953"
             ],
             [
              0.7777777777777778,
              "#fb9f3a"
             ],
             [
              0.8888888888888888,
              "#fdca26"
             ],
             [
              1,
              "#f0f921"
             ]
            ],
            "type": "contour"
           }
          ],
          "contourcarpet": [
           {
            "colorbar": {
             "outlinewidth": 0,
             "ticks": ""
            },
            "type": "contourcarpet"
           }
          ],
          "heatmap": [
           {
            "colorbar": {
             "outlinewidth": 0,
             "ticks": ""
            },
            "colorscale": [
             [
              0,
              "#0d0887"
             ],
             [
              0.1111111111111111,
              "#46039f"
             ],
             [
              0.2222222222222222,
              "#7201a8"
             ],
             [
              0.3333333333333333,
              "#9c179e"
             ],
             [
              0.4444444444444444,
              "#bd3786"
             ],
             [
              0.5555555555555556,
              "#d8576b"
             ],
             [
              0.6666666666666666,
              "#ed7953"
             ],
             [
              0.7777777777777778,
              "#fb9f3a"
             ],
             [
              0.8888888888888888,
              "#fdca26"
             ],
             [
              1,
              "#f0f921"
             ]
            ],
            "type": "heatmap"
           }
          ],
          "heatmapgl": [
           {
            "colorbar": {
             "outlinewidth": 0,
             "ticks": ""
            },
            "colorscale": [
             [
              0,
              "#0d0887"
             ],
             [
              0.1111111111111111,
              "#46039f"
             ],
             [
              0.2222222222222222,
              "#7201a8"
             ],
             [
              0.3333333333333333,
              "#9c179e"
             ],
             [
              0.4444444444444444,
              "#bd3786"
             ],
             [
              0.5555555555555556,
              "#d8576b"
             ],
             [
              0.6666666666666666,
              "#ed7953"
             ],
             [
              0.7777777777777778,
              "#fb9f3a"
             ],
             [
              0.8888888888888888,
              "#fdca26"
             ],
             [
              1,
              "#f0f921"
             ]
            ],
            "type": "heatmapgl"
           }
          ],
          "histogram": [
           {
            "marker": {
             "pattern": {
              "fillmode": "overlay",
              "size": 10,
              "solidity": 0.2
             }
            },
            "type": "histogram"
           }
          ],
          "histogram2d": [
           {
            "colorbar": {
             "outlinewidth": 0,
             "ticks": ""
            },
            "colorscale": [
             [
              0,
              "#0d0887"
             ],
             [
              0.1111111111111111,
              "#46039f"
             ],
             [
              0.2222222222222222,
              "#7201a8"
             ],
             [
              0.3333333333333333,
              "#9c179e"
             ],
             [
              0.4444444444444444,
              "#bd3786"
             ],
             [
              0.5555555555555556,
              "#d8576b"
             ],
             [
              0.6666666666666666,
              "#ed7953"
             ],
             [
              0.7777777777777778,
              "#fb9f3a"
             ],
             [
              0.8888888888888888,
              "#fdca26"
             ],
             [
              1,
              "#f0f921"
             ]
            ],
            "type": "histogram2d"
           }
          ],
          "histogram2dcontour": [
           {
            "colorbar": {
             "outlinewidth": 0,
             "ticks": ""
            },
            "colorscale": [
             [
              0,
              "#0d0887"
             ],
             [
              0.1111111111111111,
              "#46039f"
             ],
             [
              0.2222222222222222,
              "#7201a8"
             ],
             [
              0.3333333333333333,
              "#9c179e"
             ],
             [
              0.4444444444444444,
              "#bd3786"
             ],
             [
              0.5555555555555556,
              "#d8576b"
             ],
             [
              0.6666666666666666,
              "#ed7953"
             ],
             [
              0.7777777777777778,
              "#fb9f3a"
             ],
             [
              0.8888888888888888,
              "#fdca26"
             ],
             [
              1,
              "#f0f921"
             ]
            ],
            "type": "histogram2dcontour"
           }
          ],
          "mesh3d": [
           {
            "colorbar": {
             "outlinewidth": 0,
             "ticks": ""
            },
            "type": "mesh3d"
           }
          ],
          "parcoords": [
           {
            "line": {
             "colorbar": {
              "outlinewidth": 0,
              "ticks": ""
             }
            },
            "type": "parcoords"
           }
          ],
          "pie": [
           {
            "automargin": true,
            "type": "pie"
           }
          ],
          "scatter": [
           {
            "fillpattern": {
             "fillmode": "overlay",
             "size": 10,
             "solidity": 0.2
            },
            "type": "scatter"
           }
          ],
          "scatter3d": [
           {
            "line": {
             "colorbar": {
              "outlinewidth": 0,
              "ticks": ""
             }
            },
            "marker": {
             "colorbar": {
              "outlinewidth": 0,
              "ticks": ""
             }
            },
            "type": "scatter3d"
           }
          ],
          "scattercarpet": [
           {
            "marker": {
             "colorbar": {
              "outlinewidth": 0,
              "ticks": ""
             }
            },
            "type": "scattercarpet"
           }
          ],
          "scattergeo": [
           {
            "marker": {
             "colorbar": {
              "outlinewidth": 0,
              "ticks": ""
             }
            },
            "type": "scattergeo"
           }
          ],
          "scattergl": [
           {
            "marker": {
             "colorbar": {
              "outlinewidth": 0,
              "ticks": ""
             }
            },
            "type": "scattergl"
           }
          ],
          "scattermapbox": [
           {
            "marker": {
             "colorbar": {
              "outlinewidth": 0,
              "ticks": ""
             }
            },
            "type": "scattermapbox"
           }
          ],
          "scatterpolar": [
           {
            "marker": {
             "colorbar": {
              "outlinewidth": 0,
              "ticks": ""
             }
            },
            "type": "scatterpolar"
           }
          ],
          "scatterpolargl": [
           {
            "marker": {
             "colorbar": {
              "outlinewidth": 0,
              "ticks": ""
             }
            },
            "type": "scatterpolargl"
           }
          ],
          "scatterternary": [
           {
            "marker": {
             "colorbar": {
              "outlinewidth": 0,
              "ticks": ""
             }
            },
            "type": "scatterternary"
           }
          ],
          "surface": [
           {
            "colorbar": {
             "outlinewidth": 0,
             "ticks": ""
            },
            "colorscale": [
             [
              0,
              "#0d0887"
             ],
             [
              0.1111111111111111,
              "#46039f"
             ],
             [
              0.2222222222222222,
              "#7201a8"
             ],
             [
              0.3333333333333333,
              "#9c179e"
             ],
             [
              0.4444444444444444,
              "#bd3786"
             ],
             [
              0.5555555555555556,
              "#d8576b"
             ],
             [
              0.6666666666666666,
              "#ed7953"
             ],
             [
              0.7777777777777778,
              "#fb9f3a"
             ],
             [
              0.8888888888888888,
              "#fdca26"
             ],
             [
              1,
              "#f0f921"
             ]
            ],
            "type": "surface"
           }
          ],
          "table": [
           {
            "cells": {
             "fill": {
              "color": "#EBF0F8"
             },
             "line": {
              "color": "white"
             }
            },
            "header": {
             "fill": {
              "color": "#C8D4E3"
             },
             "line": {
              "color": "white"
             }
            },
            "type": "table"
           }
          ]
         },
         "layout": {
          "annotationdefaults": {
           "arrowcolor": "#2a3f5f",
           "arrowhead": 0,
           "arrowwidth": 1
          },
          "autotypenumbers": "strict",
          "coloraxis": {
           "colorbar": {
            "outlinewidth": 0,
            "ticks": ""
           }
          },
          "colorscale": {
           "diverging": [
            [
             0,
             "#8e0152"
            ],
            [
             0.1,
             "#c51b7d"
            ],
            [
             0.2,
             "#de77ae"
            ],
            [
             0.3,
             "#f1b6da"
            ],
            [
             0.4,
             "#fde0ef"
            ],
            [
             0.5,
             "#f7f7f7"
            ],
            [
             0.6,
             "#e6f5d0"
            ],
            [
             0.7,
             "#b8e186"
            ],
            [
             0.8,
             "#7fbc41"
            ],
            [
             0.9,
             "#4d9221"
            ],
            [
             1,
             "#276419"
            ]
           ],
           "sequential": [
            [
             0,
             "#0d0887"
            ],
            [
             0.1111111111111111,
             "#46039f"
            ],
            [
             0.2222222222222222,
             "#7201a8"
            ],
            [
             0.3333333333333333,
             "#9c179e"
            ],
            [
             0.4444444444444444,
             "#bd3786"
            ],
            [
             0.5555555555555556,
             "#d8576b"
            ],
            [
             0.6666666666666666,
             "#ed7953"
            ],
            [
             0.7777777777777778,
             "#fb9f3a"
            ],
            [
             0.8888888888888888,
             "#fdca26"
            ],
            [
             1,
             "#f0f921"
            ]
           ],
           "sequentialminus": [
            [
             0,
             "#0d0887"
            ],
            [
             0.1111111111111111,
             "#46039f"
            ],
            [
             0.2222222222222222,
             "#7201a8"
            ],
            [
             0.3333333333333333,
             "#9c179e"
            ],
            [
             0.4444444444444444,
             "#bd3786"
            ],
            [
             0.5555555555555556,
             "#d8576b"
            ],
            [
             0.6666666666666666,
             "#ed7953"
            ],
            [
             0.7777777777777778,
             "#fb9f3a"
            ],
            [
             0.8888888888888888,
             "#fdca26"
            ],
            [
             1,
             "#f0f921"
            ]
           ]
          },
          "colorway": [
           "#636efa",
           "#EF553B",
           "#00cc96",
           "#ab63fa",
           "#FFA15A",
           "#19d3f3",
           "#FF6692",
           "#B6E880",
           "#FF97FF",
           "#FECB52"
          ],
          "font": {
           "color": "#2a3f5f"
          },
          "geo": {
           "bgcolor": "white",
           "lakecolor": "white",
           "landcolor": "#E5ECF6",
           "showlakes": true,
           "showland": true,
           "subunitcolor": "white"
          },
          "hoverlabel": {
           "align": "left"
          },
          "hovermode": "closest",
          "mapbox": {
           "style": "light"
          },
          "paper_bgcolor": "white",
          "plot_bgcolor": "#E5ECF6",
          "polar": {
           "angularaxis": {
            "gridcolor": "white",
            "linecolor": "white",
            "ticks": ""
           },
           "bgcolor": "#E5ECF6",
           "radialaxis": {
            "gridcolor": "white",
            "linecolor": "white",
            "ticks": ""
           }
          },
          "scene": {
           "xaxis": {
            "backgroundcolor": "#E5ECF6",
            "gridcolor": "white",
            "gridwidth": 2,
            "linecolor": "white",
            "showbackground": true,
            "ticks": "",
            "zerolinecolor": "white"
           },
           "yaxis": {
            "backgroundcolor": "#E5ECF6",
            "gridcolor": "white",
            "gridwidth": 2,
            "linecolor": "white",
            "showbackground": true,
            "ticks": "",
            "zerolinecolor": "white"
           },
           "zaxis": {
            "backgroundcolor": "#E5ECF6",
            "gridcolor": "white",
            "gridwidth": 2,
            "linecolor": "white",
            "showbackground": true,
            "ticks": "",
            "zerolinecolor": "white"
           }
          },
          "shapedefaults": {
           "line": {
            "color": "#2a3f5f"
           }
          },
          "ternary": {
           "aaxis": {
            "gridcolor": "white",
            "linecolor": "white",
            "ticks": ""
           },
           "baxis": {
            "gridcolor": "white",
            "linecolor": "white",
            "ticks": ""
           },
           "bgcolor": "#E5ECF6",
           "caxis": {
            "gridcolor": "white",
            "linecolor": "white",
            "ticks": ""
           }
          },
          "title": {
           "x": 0.05
          },
          "xaxis": {
           "automargin": true,
           "gridcolor": "white",
           "linecolor": "white",
           "ticks": "",
           "title": {
            "standoff": 15
           },
           "zerolinecolor": "white",
           "zerolinewidth": 2
          },
          "yaxis": {
           "automargin": true,
           "gridcolor": "white",
           "linecolor": "white",
           "ticks": "",
           "title": {
            "standoff": 15
           },
           "zerolinecolor": "white",
           "zerolinewidth": 2
          }
         }
        }
       }
      }
     },
     "metadata": {},
     "output_type": "display_data"
    }
   ],
   "source": [
    "fig=px.scatter_3d(df,x='feature1', y='feature2', z='target')\n",
    "fig.show()"
   ]
  },
  {
   "cell_type": "code",
   "execution_count": 21,
   "metadata": {},
   "outputs": [],
   "source": [
    "from sklearn.model_selection import train_test_split\n",
    "\n",
    "x_train, x_test, y_train, y_test= train_test_split(x,y, test_size= 0.2 ,random_state=2)"
   ]
  },
  {
   "cell_type": "code",
   "execution_count": 22,
   "metadata": {},
   "outputs": [
    {
     "data": {
      "text/html": [
       "<style>#sk-container-id-2 {color: black;}#sk-container-id-2 pre{padding: 0;}#sk-container-id-2 div.sk-toggleable {background-color: white;}#sk-container-id-2 label.sk-toggleable__label {cursor: pointer;display: block;width: 100%;margin-bottom: 0;padding: 0.3em;box-sizing: border-box;text-align: center;}#sk-container-id-2 label.sk-toggleable__label-arrow:before {content: \"▸\";float: left;margin-right: 0.25em;color: #696969;}#sk-container-id-2 label.sk-toggleable__label-arrow:hover:before {color: black;}#sk-container-id-2 div.sk-estimator:hover label.sk-toggleable__label-arrow:before {color: black;}#sk-container-id-2 div.sk-toggleable__content {max-height: 0;max-width: 0;overflow: hidden;text-align: left;background-color: #f0f8ff;}#sk-container-id-2 div.sk-toggleable__content pre {margin: 0.2em;color: black;border-radius: 0.25em;background-color: #f0f8ff;}#sk-container-id-2 input.sk-toggleable__control:checked~div.sk-toggleable__content {max-height: 200px;max-width: 100%;overflow: auto;}#sk-container-id-2 input.sk-toggleable__control:checked~label.sk-toggleable__label-arrow:before {content: \"▾\";}#sk-container-id-2 div.sk-estimator input.sk-toggleable__control:checked~label.sk-toggleable__label {background-color: #d4ebff;}#sk-container-id-2 div.sk-label input.sk-toggleable__control:checked~label.sk-toggleable__label {background-color: #d4ebff;}#sk-container-id-2 input.sk-hidden--visually {border: 0;clip: rect(1px 1px 1px 1px);clip: rect(1px, 1px, 1px, 1px);height: 1px;margin: -1px;overflow: hidden;padding: 0;position: absolute;width: 1px;}#sk-container-id-2 div.sk-estimator {font-family: monospace;background-color: #f0f8ff;border: 1px dotted black;border-radius: 0.25em;box-sizing: border-box;margin-bottom: 0.5em;}#sk-container-id-2 div.sk-estimator:hover {background-color: #d4ebff;}#sk-container-id-2 div.sk-parallel-item::after {content: \"\";width: 100%;border-bottom: 1px solid gray;flex-grow: 1;}#sk-container-id-2 div.sk-label:hover label.sk-toggleable__label {background-color: #d4ebff;}#sk-container-id-2 div.sk-serial::before {content: \"\";position: absolute;border-left: 1px solid gray;box-sizing: border-box;top: 0;bottom: 0;left: 50%;z-index: 0;}#sk-container-id-2 div.sk-serial {display: flex;flex-direction: column;align-items: center;background-color: white;padding-right: 0.2em;padding-left: 0.2em;position: relative;}#sk-container-id-2 div.sk-item {position: relative;z-index: 1;}#sk-container-id-2 div.sk-parallel {display: flex;align-items: stretch;justify-content: center;background-color: white;position: relative;}#sk-container-id-2 div.sk-item::before, #sk-container-id-2 div.sk-parallel-item::before {content: \"\";position: absolute;border-left: 1px solid gray;box-sizing: border-box;top: 0;bottom: 0;left: 50%;z-index: -1;}#sk-container-id-2 div.sk-parallel-item {display: flex;flex-direction: column;z-index: 1;position: relative;background-color: white;}#sk-container-id-2 div.sk-parallel-item:first-child::after {align-self: flex-end;width: 50%;}#sk-container-id-2 div.sk-parallel-item:last-child::after {align-self: flex-start;width: 50%;}#sk-container-id-2 div.sk-parallel-item:only-child::after {width: 0;}#sk-container-id-2 div.sk-dashed-wrapped {border: 1px dashed gray;margin: 0 0.4em 0.5em 0.4em;box-sizing: border-box;padding-bottom: 0.4em;background-color: white;}#sk-container-id-2 div.sk-label label {font-family: monospace;font-weight: bold;display: inline-block;line-height: 1.2em;}#sk-container-id-2 div.sk-label-container {text-align: center;}#sk-container-id-2 div.sk-container {/* jupyter's `normalize.less` sets `[hidden] { display: none; }` but bootstrap.min.css set `[hidden] { display: none !important; }` so we also need the `!important` here to be able to override the default hidden behavior on the sphinx rendered scikit-learn.org. See: https://github.com/scikit-learn/scikit-learn/issues/21755 */display: inline-block !important;position: relative;}#sk-container-id-2 div.sk-text-repr-fallback {display: none;}</style><div id=\"sk-container-id-2\" class=\"sk-top-container\"><div class=\"sk-text-repr-fallback\"><pre>LinearRegression()</pre><b>In a Jupyter environment, please rerun this cell to show the HTML representation or trust the notebook. <br />On GitHub, the HTML representation is unable to render, please try loading this page with nbviewer.org.</b></div><div class=\"sk-container\" hidden><div class=\"sk-item\"><div class=\"sk-estimator sk-toggleable\"><input class=\"sk-toggleable__control sk-hidden--visually\" id=\"sk-estimator-id-2\" type=\"checkbox\" checked><label for=\"sk-estimator-id-2\" class=\"sk-toggleable__label sk-toggleable__label-arrow\">LinearRegression</label><div class=\"sk-toggleable__content\"><pre>LinearRegression()</pre></div></div></div></div></div>"
      ],
      "text/plain": [
       "LinearRegression()"
      ]
     },
     "execution_count": 22,
     "metadata": {},
     "output_type": "execute_result"
    }
   ],
   "source": [
    "from sklearn.linear_model import LinearRegression\n",
    "\n",
    "lr=LinearRegression()\n",
    "\n",
    "lr.fit(x_train,y_train)"
   ]
  },
  {
   "cell_type": "code",
   "execution_count": 23,
   "metadata": {},
   "outputs": [],
   "source": [
    "y_pred=lr.predict(x_test)"
   ]
  },
  {
   "cell_type": "code",
   "execution_count": 24,
   "metadata": {},
   "outputs": [
    {
     "name": "stdout",
     "output_type": "stream",
     "text": [
      "MAE : 44.08413931125473\n",
      "MSE : 3211.884631308827\n",
      "RMSE : 6.6395887908254325\n",
      "r2 : 0.7333871572246878\n"
     ]
    }
   ],
   "source": [
    "print('MAE :', mean_absolute_error(y_test,y_pred))\n",
    "print('MSE :', mean_squared_error(y_test,y_pred))\n",
    "\n",
    "print('RMSE :', np.sqrt(mean_absolute_error(y_test,y_pred)))\n",
    "print('r2 :', r2_score(y_test,y_pred))\n"
   ]
  },
  {
   "cell_type": "code",
   "execution_count": 26,
   "metadata": {},
   "outputs": [],
   "source": [
    "x=np.linspace(-5,5,10)\n",
    "y=np.linspace(-5,5,10)\n",
    "\n",
    "xGrid, yGrid =np.meshgrid(y,x)\n",
    "\n",
    "\n",
    "final=np.vstack((xGrid.ravel().reshape(1,100),yGrid.ravel().reshape(1,100))).T\n",
    "z_final= lr.predict(final).reshape(10,10)\n",
    "z=z_final\n",
    "\n"
   ]
  },
  {
   "cell_type": "code",
   "execution_count": 27,
   "metadata": {},
   "outputs": [
    {
     "data": {
      "application/vnd.plotly.v1+json": {
       "config": {
        "plotlyServerURL": "https://plot.ly"
       },
       "data": [
        {
         "hovertemplate": "feature1=%{x}<br>feature2=%{y}<br>target=%{z}<extra></extra>",
         "legendgroup": "",
         "marker": {
          "color": "#636efa",
          "symbol": "circle"
         },
         "mode": "markers",
         "name": "",
         "scene": "scene",
         "showlegend": false,
         "type": "scatter3d",
         "x": [
          -2.0149709978851047,
          1.456330726723294,
          -0.04624005777810384,
          -0.9712225790157211,
          0.43147436350324403,
          -0.9285783155073598,
          1.8357586027853594,
          1.9166827257704508,
          -1.2378240347341058,
          -0.2340424995367024,
          0.22681906603338045,
          -0.9376913627588414,
          1.0908175760668253,
          -0.41167622687355343,
          -0.012749888249579731,
          -0.48881267854814087,
          1.5933925560649194,
          1.322143912756795,
          -0.251465117921916,
          1.8353775974762916,
          -0.5322326698915173,
          -0.5433351202619745,
          0.8355873652828294,
          0.35772323686326424,
          0.017585882847877432,
          2.5072970409486097,
          2.5328615233497516,
          -0.5351234832181319,
          0.25558676952961706,
          0.06441488337715708,
          0.3668274745867404,
          0.723876610571997,
          1.654956808719808,
          0.3898221773254726,
          0.10547489348988748,
          -1.2125360027612109,
          -0.09078334077970687,
          -0.12862119109904943,
          0.11099681546678425,
          0.1923472176133931,
          1.9018838247175591,
          -1.4413336658520894,
          -1.4797406954167622,
          -0.7122660879297901,
          -1.478146160946163,
          -2.293187036859088,
          0.9107231441751964,
          0.32123235585150367,
          0.8640221629099278,
          -1.0915013201265922,
          0.08325737912867794,
          0.6270266238121253,
          0.10265865503560506,
          -1.0335552753624047,
          0.3729187651715097,
          -0.7277202949898596,
          0.840634076009777,
          0.7201363183943944,
          -0.902901408081259,
          0.3794562514669776,
          1.0825168694718459,
          -1.8582501627447179,
          -2.3608161688004765,
          -0.7211384242817178,
          -0.6160849120492988,
          -0.4491522738219934,
          -0.7967596637156387,
          0.7549274341895607,
          1.0632481750841138,
          -0.08034766380361123,
          0.09426830750711832,
          -1.1415822257831318,
          -0.6548013467528988,
          -1.312663082732824,
          -0.20970120308992132,
          1.3092728819413588,
          -2.4554051987035943,
          1.5221018923766825,
          -0.1141930602083163,
          -0.13728910361016974,
          -0.9640042072898413,
          -0.3387100777084013,
          -1.9013668965020922,
          -2.251524726182774,
          1.8574933938194151,
          2.491540492915529,
          -0.00977860269717957,
          0.27177326077473907,
          -0.05555913103767565,
          -0.32889764336260646,
          -0.3276844615780469,
          -1.9737313740552251,
          -0.7421963781994465,
          -1.2135120817534988,
          -1.158525170645666,
          0.5940639614218295,
          -0.6684251634972713,
          0.06103897030632776,
          0.6086312594300659,
          0.8040212973270116
         ],
         "y": [
          -0.512348616810927,
          -1.9681084554953998,
          0.2523483357978345,
          -0.8830688772847719,
          -1.919065602584427,
          -0.6936550414584054,
          0.6158704240345715,
          -1.9106842874815675,
          -0.2758544104188605,
          0.13455215087488673,
          0.3777187391221774,
          -0.9819383022176428,
          -0.3984791144236106,
          -1.1517097412690875,
          0.8160004281267933,
          -0.18847213789797895,
          0.5931310565872,
          -1.3597176025651239,
          -0.5953330188227688,
          -1.2024459423763076,
          -0.9610267393861288,
          0.9045698013601221,
          0.24833165642280997,
          -0.5928244434288406,
          -0.5639214003546525,
          -0.8403906778081159,
          -0.6043042440592188,
          -1.5410802706500901,
          -0.5890730136898292,
          2.102037023163255,
          -0.31661991256728306,
          0.43135690772812807,
          0.8754609138850441,
          0.3825553177964371,
          -0.39250422316697176,
          0.3673603105647114,
          -1.0110995839546997,
          -0.5206208709722308,
          0.3416866861192512,
          1.8540693407906828,
          0.5314563558386176,
          0.1397342495222427,
          0.10860575806981017,
          -0.7877051296360874,
          -0.24452862058351932,
          1.2936022947878754,
          -1.0106312483587518,
          0.7200469807580807,
          0.31365187253130566,
          -0.5111094505983921,
          0.18688218213318383,
          0.1708019001055381,
          -0.3232556656287495,
          -1.3103127496255254,
          0.7511047628797126,
          1.0190431754104574,
          -0.030837177931662293,
          0.2026079510733603,
          -1.9133558593709137,
          -0.8191833847296643,
          -1.3700309161648958,
          0.9902230310436128,
          0.2569767826993421,
          -0.008047665729084545,
          -1.0278238890104343,
          -1.932242960485033,
          -0.06390359180829522,
          0.07047211100277455,
          -0.20852353771786214,
          1.0956151869785196,
          -0.6049965413862056,
          -0.5253108865628159,
          0.7671765338393834,
          1.3270791792870158,
          0.270506955444413,
          0.045354788822201994,
          0.3277869622889988,
          0.5625860639885134,
          -1.2390008575375941,
          -0.9602858044064241,
          2.0569388330077603,
          0.24379720252284423,
          0.7601548198813727,
          -2.0590709917999614,
          0.043341221336938344,
          -0.13618602374176567,
          0.15218920052751525,
          -2.24489502824481,
          -0.4389870929664573,
          0.4271969289771436,
          -1.5366524585731354,
          0.40968332262239593,
          -0.4445350557260948,
          -1.032006501879662,
          0.13023406571229162,
          1.7595659599990514,
          0.49587233383008944,
          -1.2883494173254604,
          -0.2331539426031012,
          1.4182900629272028
         ],
         "z": [
          -55.814628294546466,
          -137.0672818258538,
          19.45785624688875,
          -123.80061565411096,
          -210.4823216091454,
          -108.62433430189103,
          124.5397627083479,
          -145.73954259271557,
          -96.6262932881321,
          -21.534638785634577,
          116.98405243626416,
          -176.83956813684426,
          -25.161380527727022,
          -165.2416371504836,
          -2.490496775190593,
          -55.191844229116484,
          198.88855645474553,
          -63.392971614901526,
          -105.84417876632136,
          31.513242868462967,
          -18.023794808550534,
          11.03374142625323,
          122.74982494794502,
          -9.735120672986447,
          70.11867092329962,
          111.28185670540908,
          122.45234848368818,
          -185.1946181611449,
          -61.85108899095661,
          164.53752767912553,
          -5.142879870836641,
          105.62325453181862,
          46.44658915861761,
          78.21664814748283,
          25.040295485814998,
          -42.97646476209104,
          -70.37278218891137,
          66.75349822477199,
          73.11468683007706,
          178.60831669881838,
          158.3891861159106,
          -106.87103073269986,
          -31.330263157331814,
          -185.64999816333108,
          -109.34554434490445,
          -32.490836170837426,
          -95.65969607213376,
          114.18839002615647,
          61.145322301959666,
          -92.64788929666327,
          -82.57506463397684,
          53.35628999916323,
          -60.46721309084022,
          -119.7550429221802,
          127.69545357575853,
          154.15229175152086,
          52.726584084418484,
          50.70933205184376,
          -238.81911115770865,
          -154.38898344646475,
          -28.383845938077904,
          -6.584674168164195,
          -113.68730806745424,
          70.02093318847369,
          -84.82367181315794,
          -106.42649677665271,
          21.0126482583377,
          21.033606532459824,
          1.4595338475119561,
          203.28609781913417,
          -122.84016878621243,
          -131.9923369540421,
          54.65384952009397,
          54.006665822791405,
          52.456585079262005,
          31.72884610601769,
          -4.832308128269958,
          136.14235739211693,
          -137.68805182267064,
          -18.852302353765268,
          40.10902831084887,
          -116.25862600548744,
          -53.06452084323246,
          -280.7659886509998,
          86.46223380461188,
          185.51105520264377,
          -36.11622126264428,
          -278.5088952566173,
          -127.24219195577795,
          50.170495094983536,
          -141.52458392049894,
          -153.91574432648292,
          -41.363618013195406,
          -97.1136314174127,
          -102.4043462968846,
          180.05139441270933,
          35.826604536913464,
          -55.8042478051117,
          60.04078054954117,
          86.95338721931405
         ]
        },
        {
         "type": "surface",
         "x": [
          -5,
          -3.888888888888889,
          -2.7777777777777777,
          -1.6666666666666665,
          -0.5555555555555554,
          0.5555555555555554,
          1.666666666666667,
          2.7777777777777786,
          3.8888888888888893,
          5
         ],
         "y": [
          -5,
          -3.888888888888889,
          -2.7777777777777777,
          -1.6666666666666665,
          -0.5555555555555554,
          0.5555555555555554,
          1.666666666666667,
          2.7777777777777786,
          3.8888888888888893,
          5
         ],
         "z": [
          [
           -722.4587161735632,
           -663.1155413687026,
           -603.7723665638421,
           -544.4291917589815,
           -485.08601695412096,
           -425.74284214926047,
           -366.39966734439986,
           -307.05649253953925,
           -247.7133177346787,
           -188.37014292981817
          ],
          [
           -621.4497199548492,
           -562.1065451499886,
           -502.7633703451281,
           -443.42019554026757,
           -384.07702073540696,
           -324.73384593054647,
           -265.39067112568586,
           -206.04749632082522,
           -146.7043215159647,
           -87.36114671110417
          ],
          [
           -520.4407237361352,
           -461.0975489312747,
           -401.7543741264141,
           -342.41119932155357,
           -283.06802451669296,
           -223.7248497118324,
           -164.38167490697182,
           -105.03850010211121,
           -45.69532529725069,
           13.64784950760983
          ],
          [
           -419.4317275174212,
           -360.08855271256067,
           -300.7453779077001,
           -241.40220310283954,
           -182.05902829797895,
           -122.7158534931184,
           -63.37267868825782,
           -4.029503883397215,
           55.31367092146331,
           114.65684572632384
          ],
          [
           -318.4227312987072,
           -259.07955649384667,
           -199.73638168898609,
           -140.39320688412553,
           -81.05003207926495,
           -21.706857274404413,
           37.63631753045617,
           96.97949233531679,
           156.32266714017732,
           215.66584194503784
          ],
          [
           -217.41373507999324,
           -158.0705602751327,
           -98.72738547027214,
           -39.38421066541157,
           19.958964139449,
           79.30213894430955,
           138.64531374917013,
           197.98848855403074,
           257.33166335889126,
           316.67483816375176
          ],
          [
           -116.40473886127918,
           -57.06156405641863,
           2.281610748441917,
           61.62478555330249,
           120.96796035816305,
           180.3111351630236,
           239.6543099678842,
           298.99748477274477,
           358.3406595776053,
           417.6838343824658
          ],
          [
           -15.395742642565157,
           43.9474321622954,
           103.29060696715595,
           162.63378177201653,
           221.9769565768771,
           281.3201313817376,
           340.66330618659816,
           400.0064809914588,
           459.3496557963193,
           518.6928306011799
          ],
          [
           85.61325357614882,
           144.95642838100937,
           204.29960318586993,
           263.64277799073045,
           322.98595279559106,
           382.32912760045156,
           441.67230240531217,
           501.0154772101728,
           560.3586520150334,
           619.7018268198939
          ],
          [
           186.62224979486277,
           245.96542459972332,
           305.30859940458384,
           364.6517742094444,
           423.994949014305,
           483.3381238191655,
           542.6812986240262,
           602.0244734288868,
           661.3676482337473,
           720.7108230386078
          ]
         ]
        }
       ],
       "layout": {
        "legend": {
         "tracegroupgap": 0
        },
        "margin": {
         "t": 60
        },
        "scene": {
         "domain": {
          "x": [
           0,
           1
          ],
          "y": [
           0,
           1
          ]
         },
         "xaxis": {
          "title": {
           "text": "feature1"
          }
         },
         "yaxis": {
          "title": {
           "text": "feature2"
          }
         },
         "zaxis": {
          "title": {
           "text": "target"
          }
         }
        },
        "template": {
         "data": {
          "bar": [
           {
            "error_x": {
             "color": "#2a3f5f"
            },
            "error_y": {
             "color": "#2a3f5f"
            },
            "marker": {
             "line": {
              "color": "#E5ECF6",
              "width": 0.5
             },
             "pattern": {
              "fillmode": "overlay",
              "size": 10,
              "solidity": 0.2
             }
            },
            "type": "bar"
           }
          ],
          "barpolar": [
           {
            "marker": {
             "line": {
              "color": "#E5ECF6",
              "width": 0.5
             },
             "pattern": {
              "fillmode": "overlay",
              "size": 10,
              "solidity": 0.2
             }
            },
            "type": "barpolar"
           }
          ],
          "carpet": [
           {
            "aaxis": {
             "endlinecolor": "#2a3f5f",
             "gridcolor": "white",
             "linecolor": "white",
             "minorgridcolor": "white",
             "startlinecolor": "#2a3f5f"
            },
            "baxis": {
             "endlinecolor": "#2a3f5f",
             "gridcolor": "white",
             "linecolor": "white",
             "minorgridcolor": "white",
             "startlinecolor": "#2a3f5f"
            },
            "type": "carpet"
           }
          ],
          "choropleth": [
           {
            "colorbar": {
             "outlinewidth": 0,
             "ticks": ""
            },
            "type": "choropleth"
           }
          ],
          "contour": [
           {
            "colorbar": {
             "outlinewidth": 0,
             "ticks": ""
            },
            "colorscale": [
             [
              0,
              "#0d0887"
             ],
             [
              0.1111111111111111,
              "#46039f"
             ],
             [
              0.2222222222222222,
              "#7201a8"
             ],
             [
              0.3333333333333333,
              "#9c179e"
             ],
             [
              0.4444444444444444,
              "#bd3786"
             ],
             [
              0.5555555555555556,
              "#d8576b"
             ],
             [
              0.6666666666666666,
              "#ed7953"
             ],
             [
              0.7777777777777778,
              "#fb9f3a"
             ],
             [
              0.8888888888888888,
              "#fdca26"
             ],
             [
              1,
              "#f0f921"
             ]
            ],
            "type": "contour"
           }
          ],
          "contourcarpet": [
           {
            "colorbar": {
             "outlinewidth": 0,
             "ticks": ""
            },
            "type": "contourcarpet"
           }
          ],
          "heatmap": [
           {
            "colorbar": {
             "outlinewidth": 0,
             "ticks": ""
            },
            "colorscale": [
             [
              0,
              "#0d0887"
             ],
             [
              0.1111111111111111,
              "#46039f"
             ],
             [
              0.2222222222222222,
              "#7201a8"
             ],
             [
              0.3333333333333333,
              "#9c179e"
             ],
             [
              0.4444444444444444,
              "#bd3786"
             ],
             [
              0.5555555555555556,
              "#d8576b"
             ],
             [
              0.6666666666666666,
              "#ed7953"
             ],
             [
              0.7777777777777778,
              "#fb9f3a"
             ],
             [
              0.8888888888888888,
              "#fdca26"
             ],
             [
              1,
              "#f0f921"
             ]
            ],
            "type": "heatmap"
           }
          ],
          "heatmapgl": [
           {
            "colorbar": {
             "outlinewidth": 0,
             "ticks": ""
            },
            "colorscale": [
             [
              0,
              "#0d0887"
             ],
             [
              0.1111111111111111,
              "#46039f"
             ],
             [
              0.2222222222222222,
              "#7201a8"
             ],
             [
              0.3333333333333333,
              "#9c179e"
             ],
             [
              0.4444444444444444,
              "#bd3786"
             ],
             [
              0.5555555555555556,
              "#d8576b"
             ],
             [
              0.6666666666666666,
              "#ed7953"
             ],
             [
              0.7777777777777778,
              "#fb9f3a"
             ],
             [
              0.8888888888888888,
              "#fdca26"
             ],
             [
              1,
              "#f0f921"
             ]
            ],
            "type": "heatmapgl"
           }
          ],
          "histogram": [
           {
            "marker": {
             "pattern": {
              "fillmode": "overlay",
              "size": 10,
              "solidity": 0.2
             }
            },
            "type": "histogram"
           }
          ],
          "histogram2d": [
           {
            "colorbar": {
             "outlinewidth": 0,
             "ticks": ""
            },
            "colorscale": [
             [
              0,
              "#0d0887"
             ],
             [
              0.1111111111111111,
              "#46039f"
             ],
             [
              0.2222222222222222,
              "#7201a8"
             ],
             [
              0.3333333333333333,
              "#9c179e"
             ],
             [
              0.4444444444444444,
              "#bd3786"
             ],
             [
              0.5555555555555556,
              "#d8576b"
             ],
             [
              0.6666666666666666,
              "#ed7953"
             ],
             [
              0.7777777777777778,
              "#fb9f3a"
             ],
             [
              0.8888888888888888,
              "#fdca26"
             ],
             [
              1,
              "#f0f921"
             ]
            ],
            "type": "histogram2d"
           }
          ],
          "histogram2dcontour": [
           {
            "colorbar": {
             "outlinewidth": 0,
             "ticks": ""
            },
            "colorscale": [
             [
              0,
              "#0d0887"
             ],
             [
              0.1111111111111111,
              "#46039f"
             ],
             [
              0.2222222222222222,
              "#7201a8"
             ],
             [
              0.3333333333333333,
              "#9c179e"
             ],
             [
              0.4444444444444444,
              "#bd3786"
             ],
             [
              0.5555555555555556,
              "#d8576b"
             ],
             [
              0.6666666666666666,
              "#ed7953"
             ],
             [
              0.7777777777777778,
              "#fb9f3a"
             ],
             [
              0.8888888888888888,
              "#fdca26"
             ],
             [
              1,
              "#f0f921"
             ]
            ],
            "type": "histogram2dcontour"
           }
          ],
          "mesh3d": [
           {
            "colorbar": {
             "outlinewidth": 0,
             "ticks": ""
            },
            "type": "mesh3d"
           }
          ],
          "parcoords": [
           {
            "line": {
             "colorbar": {
              "outlinewidth": 0,
              "ticks": ""
             }
            },
            "type": "parcoords"
           }
          ],
          "pie": [
           {
            "automargin": true,
            "type": "pie"
           }
          ],
          "scatter": [
           {
            "fillpattern": {
             "fillmode": "overlay",
             "size": 10,
             "solidity": 0.2
            },
            "type": "scatter"
           }
          ],
          "scatter3d": [
           {
            "line": {
             "colorbar": {
              "outlinewidth": 0,
              "ticks": ""
             }
            },
            "marker": {
             "colorbar": {
              "outlinewidth": 0,
              "ticks": ""
             }
            },
            "type": "scatter3d"
           }
          ],
          "scattercarpet": [
           {
            "marker": {
             "colorbar": {
              "outlinewidth": 0,
              "ticks": ""
             }
            },
            "type": "scattercarpet"
           }
          ],
          "scattergeo": [
           {
            "marker": {
             "colorbar": {
              "outlinewidth": 0,
              "ticks": ""
             }
            },
            "type": "scattergeo"
           }
          ],
          "scattergl": [
           {
            "marker": {
             "colorbar": {
              "outlinewidth": 0,
              "ticks": ""
             }
            },
            "type": "scattergl"
           }
          ],
          "scattermapbox": [
           {
            "marker": {
             "colorbar": {
              "outlinewidth": 0,
              "ticks": ""
             }
            },
            "type": "scattermapbox"
           }
          ],
          "scatterpolar": [
           {
            "marker": {
             "colorbar": {
              "outlinewidth": 0,
              "ticks": ""
             }
            },
            "type": "scatterpolar"
           }
          ],
          "scatterpolargl": [
           {
            "marker": {
             "colorbar": {
              "outlinewidth": 0,
              "ticks": ""
             }
            },
            "type": "scatterpolargl"
           }
          ],
          "scatterternary": [
           {
            "marker": {
             "colorbar": {
              "outlinewidth": 0,
              "ticks": ""
             }
            },
            "type": "scatterternary"
           }
          ],
          "surface": [
           {
            "colorbar": {
             "outlinewidth": 0,
             "ticks": ""
            },
            "colorscale": [
             [
              0,
              "#0d0887"
             ],
             [
              0.1111111111111111,
              "#46039f"
             ],
             [
              0.2222222222222222,
              "#7201a8"
             ],
             [
              0.3333333333333333,
              "#9c179e"
             ],
             [
              0.4444444444444444,
              "#bd3786"
             ],
             [
              0.5555555555555556,
              "#d8576b"
             ],
             [
              0.6666666666666666,
              "#ed7953"
             ],
             [
              0.7777777777777778,
              "#fb9f3a"
             ],
             [
              0.8888888888888888,
              "#fdca26"
             ],
             [
              1,
              "#f0f921"
             ]
            ],
            "type": "surface"
           }
          ],
          "table": [
           {
            "cells": {
             "fill": {
              "color": "#EBF0F8"
             },
             "line": {
              "color": "white"
             }
            },
            "header": {
             "fill": {
              "color": "#C8D4E3"
             },
             "line": {
              "color": "white"
             }
            },
            "type": "table"
           }
          ]
         },
         "layout": {
          "annotationdefaults": {
           "arrowcolor": "#2a3f5f",
           "arrowhead": 0,
           "arrowwidth": 1
          },
          "autotypenumbers": "strict",
          "coloraxis": {
           "colorbar": {
            "outlinewidth": 0,
            "ticks": ""
           }
          },
          "colorscale": {
           "diverging": [
            [
             0,
             "#8e0152"
            ],
            [
             0.1,
             "#c51b7d"
            ],
            [
             0.2,
             "#de77ae"
            ],
            [
             0.3,
             "#f1b6da"
            ],
            [
             0.4,
             "#fde0ef"
            ],
            [
             0.5,
             "#f7f7f7"
            ],
            [
             0.6,
             "#e6f5d0"
            ],
            [
             0.7,
             "#b8e186"
            ],
            [
             0.8,
             "#7fbc41"
            ],
            [
             0.9,
             "#4d9221"
            ],
            [
             1,
             "#276419"
            ]
           ],
           "sequential": [
            [
             0,
             "#0d0887"
            ],
            [
             0.1111111111111111,
             "#46039f"
            ],
            [
             0.2222222222222222,
             "#7201a8"
            ],
            [
             0.3333333333333333,
             "#9c179e"
            ],
            [
             0.4444444444444444,
             "#bd3786"
            ],
            [
             0.5555555555555556,
             "#d8576b"
            ],
            [
             0.6666666666666666,
             "#ed7953"
            ],
            [
             0.7777777777777778,
             "#fb9f3a"
            ],
            [
             0.8888888888888888,
             "#fdca26"
            ],
            [
             1,
             "#f0f921"
            ]
           ],
           "sequentialminus": [
            [
             0,
             "#0d0887"
            ],
            [
             0.1111111111111111,
             "#46039f"
            ],
            [
             0.2222222222222222,
             "#7201a8"
            ],
            [
             0.3333333333333333,
             "#9c179e"
            ],
            [
             0.4444444444444444,
             "#bd3786"
            ],
            [
             0.5555555555555556,
             "#d8576b"
            ],
            [
             0.6666666666666666,
             "#ed7953"
            ],
            [
             0.7777777777777778,
             "#fb9f3a"
            ],
            [
             0.8888888888888888,
             "#fdca26"
            ],
            [
             1,
             "#f0f921"
            ]
           ]
          },
          "colorway": [
           "#636efa",
           "#EF553B",
           "#00cc96",
           "#ab63fa",
           "#FFA15A",
           "#19d3f3",
           "#FF6692",
           "#B6E880",
           "#FF97FF",
           "#FECB52"
          ],
          "font": {
           "color": "#2a3f5f"
          },
          "geo": {
           "bgcolor": "white",
           "lakecolor": "white",
           "landcolor": "#E5ECF6",
           "showlakes": true,
           "showland": true,
           "subunitcolor": "white"
          },
          "hoverlabel": {
           "align": "left"
          },
          "hovermode": "closest",
          "mapbox": {
           "style": "light"
          },
          "paper_bgcolor": "white",
          "plot_bgcolor": "#E5ECF6",
          "polar": {
           "angularaxis": {
            "gridcolor": "white",
            "linecolor": "white",
            "ticks": ""
           },
           "bgcolor": "#E5ECF6",
           "radialaxis": {
            "gridcolor": "white",
            "linecolor": "white",
            "ticks": ""
           }
          },
          "scene": {
           "xaxis": {
            "backgroundcolor": "#E5ECF6",
            "gridcolor": "white",
            "gridwidth": 2,
            "linecolor": "white",
            "showbackground": true,
            "ticks": "",
            "zerolinecolor": "white"
           },
           "yaxis": {
            "backgroundcolor": "#E5ECF6",
            "gridcolor": "white",
            "gridwidth": 2,
            "linecolor": "white",
            "showbackground": true,
            "ticks": "",
            "zerolinecolor": "white"
           },
           "zaxis": {
            "backgroundcolor": "#E5ECF6",
            "gridcolor": "white",
            "gridwidth": 2,
            "linecolor": "white",
            "showbackground": true,
            "ticks": "",
            "zerolinecolor": "white"
           }
          },
          "shapedefaults": {
           "line": {
            "color": "#2a3f5f"
           }
          },
          "ternary": {
           "aaxis": {
            "gridcolor": "white",
            "linecolor": "white",
            "ticks": ""
           },
           "baxis": {
            "gridcolor": "white",
            "linecolor": "white",
            "ticks": ""
           },
           "bgcolor": "#E5ECF6",
           "caxis": {
            "gridcolor": "white",
            "linecolor": "white",
            "ticks": ""
           }
          },
          "title": {
           "x": 0.05
          },
          "xaxis": {
           "automargin": true,
           "gridcolor": "white",
           "linecolor": "white",
           "ticks": "",
           "title": {
            "standoff": 15
           },
           "zerolinecolor": "white",
           "zerolinewidth": 2
          },
          "yaxis": {
           "automargin": true,
           "gridcolor": "white",
           "linecolor": "white",
           "ticks": "",
           "title": {
            "standoff": 15
           },
           "zerolinecolor": "white",
           "zerolinewidth": 2
          }
         }
        }
       }
      }
     },
     "metadata": {},
     "output_type": "display_data"
    }
   ],
   "source": [
    "fig= px.scatter_3d(df,x='feature1', y='feature2', z='target')\n",
    "fig.add_trace(go.Surface(x=x, y=y,z=z))\n",
    "\n",
    "fig.show()"
   ]
  },
  {
   "cell_type": "code",
   "execution_count": 28,
   "metadata": {},
   "outputs": [
    {
     "data": {
      "text/plain": [
       "array([53.40885732, 90.9080966 ])"
      ]
     },
     "execution_count": 28,
     "metadata": {},
     "output_type": "execute_result"
    }
   ],
   "source": [
    "lr.coef_"
   ]
  },
  {
   "cell_type": "code",
   "execution_count": 29,
   "metadata": {},
   "outputs": [
    {
     "data": {
      "text/plain": [
       "-0.8739465674777058"
      ]
     },
     "execution_count": 29,
     "metadata": {},
     "output_type": "execute_result"
    }
   ],
   "source": [
    "lr.intercept_"
   ]
  },
  {
   "cell_type": "code",
   "execution_count": null,
   "metadata": {},
   "outputs": [],
   "source": []
  }
 ],
 "metadata": {
  "kernelspec": {
   "display_name": "Python 3",
   "language": "python",
   "name": "python3"
  },
  "language_info": {
   "codemirror_mode": {
    "name": "ipython",
    "version": 3
   },
   "file_extension": ".py",
   "mimetype": "text/x-python",
   "name": "python",
   "nbconvert_exporter": "python",
   "pygments_lexer": "ipython3",
   "version": "3.11.4"
  },
  "orig_nbformat": 4
 },
 "nbformat": 4,
 "nbformat_minor": 2
}
