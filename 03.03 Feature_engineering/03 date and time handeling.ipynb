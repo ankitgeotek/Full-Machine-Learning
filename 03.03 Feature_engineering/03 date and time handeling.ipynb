{
 "cells": [
  {
   "cell_type": "code",
   "execution_count": 22,
   "metadata": {},
   "outputs": [],
   "source": [
    "import numpy as np\n",
    "import pandas as pd"
   ]
  },
  {
   "cell_type": "code",
   "execution_count": 23,
   "metadata": {},
   "outputs": [],
   "source": [
    "\n",
    "df_time=pd.read_csv(r\"A:\\Work Docs\\DATA Set\\messages.csv\")\n",
    "df_date=pd.read_csv(r\"A:\\Work Docs\\DATA Set\\orders.csv\")"
   ]
  },
  {
   "cell_type": "code",
   "execution_count": 24,
   "metadata": {},
   "outputs": [
    {
     "data": {
      "text/html": [
       "<div>\n",
       "<style scoped>\n",
       "    .dataframe tbody tr th:only-of-type {\n",
       "        vertical-align: middle;\n",
       "    }\n",
       "\n",
       "    .dataframe tbody tr th {\n",
       "        vertical-align: top;\n",
       "    }\n",
       "\n",
       "    .dataframe thead th {\n",
       "        text-align: right;\n",
       "    }\n",
       "</style>\n",
       "<table border=\"1\" class=\"dataframe\">\n",
       "  <thead>\n",
       "    <tr style=\"text-align: right;\">\n",
       "      <th></th>\n",
       "      <th>date</th>\n",
       "      <th>msg</th>\n",
       "    </tr>\n",
       "  </thead>\n",
       "  <tbody>\n",
       "    <tr>\n",
       "      <th>508</th>\n",
       "      <td>2015-09-28 22:47:00</td>\n",
       "      <td>поцелую женщине...0666608116</td>\n",
       "    </tr>\n",
       "  </tbody>\n",
       "</table>\n",
       "</div>"
      ],
      "text/plain": [
       "                    date                           msg\n",
       "508  2015-09-28 22:47:00  поцелую женщине...0666608116"
      ]
     },
     "execution_count": 24,
     "metadata": {},
     "output_type": "execute_result"
    }
   ],
   "source": [
    "df_time.sample()"
   ]
  },
  {
   "cell_type": "code",
   "execution_count": 25,
   "metadata": {},
   "outputs": [
    {
     "data": {
      "text/html": [
       "<div>\n",
       "<style scoped>\n",
       "    .dataframe tbody tr th:only-of-type {\n",
       "        vertical-align: middle;\n",
       "    }\n",
       "\n",
       "    .dataframe tbody tr th {\n",
       "        vertical-align: top;\n",
       "    }\n",
       "\n",
       "    .dataframe thead th {\n",
       "        text-align: right;\n",
       "    }\n",
       "</style>\n",
       "<table border=\"1\" class=\"dataframe\">\n",
       "  <thead>\n",
       "    <tr style=\"text-align: right;\">\n",
       "      <th></th>\n",
       "      <th>date</th>\n",
       "      <th>product_id</th>\n",
       "      <th>city_id</th>\n",
       "      <th>orders</th>\n",
       "    </tr>\n",
       "  </thead>\n",
       "  <tbody>\n",
       "    <tr>\n",
       "      <th>942</th>\n",
       "      <td>2019-11-16</td>\n",
       "      <td>2999</td>\n",
       "      <td>7</td>\n",
       "      <td>1</td>\n",
       "    </tr>\n",
       "  </tbody>\n",
       "</table>\n",
       "</div>"
      ],
      "text/plain": [
       "           date  product_id  city_id  orders\n",
       "942  2019-11-16        2999        7       1"
      ]
     },
     "execution_count": 25,
     "metadata": {},
     "output_type": "execute_result"
    }
   ],
   "source": [
    "df_date.sample()"
   ]
  },
  {
   "cell_type": "markdown",
   "metadata": {},
   "source": [
    "By default data type of date and time is object\n",
    "\n",
    "we have to concert it to datatype as date and time"
   ]
  },
  {
   "cell_type": "code",
   "execution_count": 26,
   "metadata": {},
   "outputs": [
    {
     "name": "stdout",
     "output_type": "stream",
     "text": [
      "<class 'pandas.core.frame.DataFrame'>\n",
      "RangeIndex: 1000 entries, 0 to 999\n",
      "Data columns (total 4 columns):\n",
      " #   Column      Non-Null Count  Dtype \n",
      "---  ------      --------------  ----- \n",
      " 0   date        1000 non-null   object\n",
      " 1   product_id  1000 non-null   int64 \n",
      " 2   city_id     1000 non-null   int64 \n",
      " 3   orders      1000 non-null   int64 \n",
      "dtypes: int64(3), object(1)\n",
      "memory usage: 31.4+ KB\n"
     ]
    }
   ],
   "source": [
    "df_date.info()\n",
    "#date        1000 non-null   object"
   ]
  },
  {
   "cell_type": "code",
   "execution_count": 27,
   "metadata": {},
   "outputs": [
    {
     "name": "stdout",
     "output_type": "stream",
     "text": [
      "<class 'pandas.core.frame.DataFrame'>\n",
      "RangeIndex: 1000 entries, 0 to 999\n",
      "Data columns (total 2 columns):\n",
      " #   Column  Non-Null Count  Dtype \n",
      "---  ------  --------------  ----- \n",
      " 0   date    1000 non-null   object\n",
      " 1   msg     1000 non-null   object\n",
      "dtypes: object(2)\n",
      "memory usage: 15.8+ KB\n"
     ]
    }
   ],
   "source": [
    "df_time.info()\n",
    "# 0   date    1000 non-null   object"
   ]
  },
  {
   "cell_type": "markdown",
   "metadata": {},
   "source": [
    "# Working With Dates"
   ]
  },
  {
   "cell_type": "code",
   "execution_count": 28,
   "metadata": {},
   "outputs": [
    {
     "name": "stdout",
     "output_type": "stream",
     "text": [
      "<class 'pandas.core.frame.DataFrame'>\n",
      "RangeIndex: 1000 entries, 0 to 999\n",
      "Data columns (total 4 columns):\n",
      " #   Column      Non-Null Count  Dtype         \n",
      "---  ------      --------------  -----         \n",
      " 0   date        1000 non-null   datetime64[ns]\n",
      " 1   product_id  1000 non-null   int64         \n",
      " 2   city_id     1000 non-null   int64         \n",
      " 3   orders      1000 non-null   int64         \n",
      "dtypes: datetime64[ns](1), int64(3)\n",
      "memory usage: 31.4 KB\n"
     ]
    }
   ],
   "source": [
    "# Converting data type from string to date-time\n",
    "df_date['date']=pd.to_datetime(df_date['date'])\n",
    "df_date.info()\n",
    "# 0   date        1000 non-null   datetime64[ns]"
   ]
  },
  {
   "cell_type": "code",
   "execution_count": 29,
   "metadata": {},
   "outputs": [
    {
     "name": "stdout",
     "output_type": "stream",
     "text": [
      "<class 'pandas.core.frame.DataFrame'>\n",
      "RangeIndex: 1000 entries, 0 to 999\n",
      "Data columns (total 2 columns):\n",
      " #   Column  Non-Null Count  Dtype         \n",
      "---  ------  --------------  -----         \n",
      " 0   date    1000 non-null   datetime64[ns]\n",
      " 1   msg     1000 non-null   object        \n",
      "dtypes: datetime64[ns](1), object(1)\n",
      "memory usage: 15.8+ KB\n"
     ]
    }
   ],
   "source": [
    "# Converting data type from string to date-time\n",
    "df_time['date']=pd.to_datetime(df_time['date'])\n",
    "df_time.info()\n",
    "#  0   date    1000 non-null   datetime64[ns]"
   ]
  },
  {
   "cell_type": "markdown",
   "metadata": {},
   "source": [
    "Extract year,month,day"
   ]
  },
  {
   "cell_type": "code",
   "execution_count": 31,
   "metadata": {},
   "outputs": [
    {
     "data": {
      "text/html": [
       "<div>\n",
       "<style scoped>\n",
       "    .dataframe tbody tr th:only-of-type {\n",
       "        vertical-align: middle;\n",
       "    }\n",
       "\n",
       "    .dataframe tbody tr th {\n",
       "        vertical-align: top;\n",
       "    }\n",
       "\n",
       "    .dataframe thead th {\n",
       "        text-align: right;\n",
       "    }\n",
       "</style>\n",
       "<table border=\"1\" class=\"dataframe\">\n",
       "  <thead>\n",
       "    <tr style=\"text-align: right;\">\n",
       "      <th></th>\n",
       "      <th>date</th>\n",
       "      <th>product_id</th>\n",
       "      <th>city_id</th>\n",
       "      <th>orders</th>\n",
       "      <th>Date_year</th>\n",
       "      <th>Date_month</th>\n",
       "      <th>Date_day</th>\n",
       "      <th>Date_month_name</th>\n",
       "      <th>Date_day_name</th>\n",
       "    </tr>\n",
       "  </thead>\n",
       "  <tbody>\n",
       "    <tr>\n",
       "      <th>144</th>\n",
       "      <td>2019-10-14</td>\n",
       "      <td>5778</td>\n",
       "      <td>24</td>\n",
       "      <td>108</td>\n",
       "      <td>2019</td>\n",
       "      <td>10</td>\n",
       "      <td>14</td>\n",
       "      <td>October</td>\n",
       "      <td>Monday</td>\n",
       "    </tr>\n",
       "    <tr>\n",
       "      <th>87</th>\n",
       "      <td>2019-07-12</td>\n",
       "      <td>7042</td>\n",
       "      <td>3</td>\n",
       "      <td>5</td>\n",
       "      <td>2019</td>\n",
       "      <td>7</td>\n",
       "      <td>12</td>\n",
       "      <td>July</td>\n",
       "      <td>Friday</td>\n",
       "    </tr>\n",
       "    <tr>\n",
       "      <th>172</th>\n",
       "      <td>2019-06-24</td>\n",
       "      <td>5450</td>\n",
       "      <td>13</td>\n",
       "      <td>1</td>\n",
       "      <td>2019</td>\n",
       "      <td>6</td>\n",
       "      <td>24</td>\n",
       "      <td>June</td>\n",
       "      <td>Monday</td>\n",
       "    </tr>\n",
       "    <tr>\n",
       "      <th>547</th>\n",
       "      <td>2019-06-21</td>\n",
       "      <td>793</td>\n",
       "      <td>29</td>\n",
       "      <td>3</td>\n",
       "      <td>2019</td>\n",
       "      <td>6</td>\n",
       "      <td>21</td>\n",
       "      <td>June</td>\n",
       "      <td>Friday</td>\n",
       "    </tr>\n",
       "    <tr>\n",
       "      <th>236</th>\n",
       "      <td>2018-08-24</td>\n",
       "      <td>4576</td>\n",
       "      <td>22</td>\n",
       "      <td>3</td>\n",
       "      <td>2018</td>\n",
       "      <td>8</td>\n",
       "      <td>24</td>\n",
       "      <td>August</td>\n",
       "      <td>Friday</td>\n",
       "    </tr>\n",
       "  </tbody>\n",
       "</table>\n",
       "</div>"
      ],
      "text/plain": [
       "          date  product_id  city_id  orders  Date_year  Date_month  Date_day  \\\n",
       "144 2019-10-14        5778       24     108       2019          10        14   \n",
       "87  2019-07-12        7042        3       5       2019           7        12   \n",
       "172 2019-06-24        5450       13       1       2019           6        24   \n",
       "547 2019-06-21         793       29       3       2019           6        21   \n",
       "236 2018-08-24        4576       22       3       2018           8        24   \n",
       "\n",
       "    Date_month_name Date_day_name  \n",
       "144         October        Monday  \n",
       "87             July        Friday  \n",
       "172            June        Monday  \n",
       "547            June        Friday  \n",
       "236          August        Friday  "
      ]
     },
     "execution_count": 31,
     "metadata": {},
     "output_type": "execute_result"
    }
   ],
   "source": [
    "df_date['Date_year']=df_date['date'].dt.year\n",
    "df_date['Date_month']=df_date['date'].dt.month\n",
    "df_date['Date_month_name']=df_date['date'].dt.month_name()\n",
    "df_date['Date_day']=df_date['date'].dt.day\n",
    "df_date['Date_day_name']=df_date['date'].dt.day_name()\n",
    "\n",
    "\n",
    "df_date.sample(5)"
   ]
  },
  {
   "cell_type": "markdown",
   "metadata": {},
   "source": [
    "Day of week, month,year"
   ]
  },
  {
   "cell_type": "code",
   "execution_count": 32,
   "metadata": {},
   "outputs": [
    {
     "data": {
      "text/html": [
       "<div>\n",
       "<style scoped>\n",
       "    .dataframe tbody tr th:only-of-type {\n",
       "        vertical-align: middle;\n",
       "    }\n",
       "\n",
       "    .dataframe tbody tr th {\n",
       "        vertical-align: top;\n",
       "    }\n",
       "\n",
       "    .dataframe thead th {\n",
       "        text-align: right;\n",
       "    }\n",
       "</style>\n",
       "<table border=\"1\" class=\"dataframe\">\n",
       "  <thead>\n",
       "    <tr style=\"text-align: right;\">\n",
       "      <th></th>\n",
       "      <th>date</th>\n",
       "      <th>product_id</th>\n",
       "      <th>city_id</th>\n",
       "      <th>orders</th>\n",
       "      <th>Date_year</th>\n",
       "      <th>Date_month</th>\n",
       "      <th>Date_day</th>\n",
       "      <th>Date_month_name</th>\n",
       "      <th>Date_day_name</th>\n",
       "      <th>Date_day_of_week</th>\n",
       "      <th>Date_day_of_month</th>\n",
       "      <th>Date_day_of_year</th>\n",
       "    </tr>\n",
       "  </thead>\n",
       "  <tbody>\n",
       "    <tr>\n",
       "      <th>737</th>\n",
       "      <td>2019-04-24</td>\n",
       "      <td>668</td>\n",
       "      <td>2</td>\n",
       "      <td>3</td>\n",
       "      <td>2019</td>\n",
       "      <td>4</td>\n",
       "      <td>24</td>\n",
       "      <td>April</td>\n",
       "      <td>Wednesday</td>\n",
       "      <td>2</td>\n",
       "      <td>114</td>\n",
       "      <td>114</td>\n",
       "    </tr>\n",
       "    <tr>\n",
       "      <th>942</th>\n",
       "      <td>2019-11-16</td>\n",
       "      <td>2999</td>\n",
       "      <td>7</td>\n",
       "      <td>1</td>\n",
       "      <td>2019</td>\n",
       "      <td>11</td>\n",
       "      <td>16</td>\n",
       "      <td>November</td>\n",
       "      <td>Saturday</td>\n",
       "      <td>5</td>\n",
       "      <td>320</td>\n",
       "      <td>320</td>\n",
       "    </tr>\n",
       "    <tr>\n",
       "      <th>817</th>\n",
       "      <td>2019-10-20</td>\n",
       "      <td>3271</td>\n",
       "      <td>0</td>\n",
       "      <td>1</td>\n",
       "      <td>2019</td>\n",
       "      <td>10</td>\n",
       "      <td>20</td>\n",
       "      <td>October</td>\n",
       "      <td>Sunday</td>\n",
       "      <td>6</td>\n",
       "      <td>293</td>\n",
       "      <td>293</td>\n",
       "    </tr>\n",
       "    <tr>\n",
       "      <th>932</th>\n",
       "      <td>2019-07-19</td>\n",
       "      <td>6390</td>\n",
       "      <td>0</td>\n",
       "      <td>1</td>\n",
       "      <td>2019</td>\n",
       "      <td>7</td>\n",
       "      <td>19</td>\n",
       "      <td>July</td>\n",
       "      <td>Friday</td>\n",
       "      <td>4</td>\n",
       "      <td>200</td>\n",
       "      <td>200</td>\n",
       "    </tr>\n",
       "    <tr>\n",
       "      <th>325</th>\n",
       "      <td>2019-06-13</td>\n",
       "      <td>7057</td>\n",
       "      <td>2</td>\n",
       "      <td>6</td>\n",
       "      <td>2019</td>\n",
       "      <td>6</td>\n",
       "      <td>13</td>\n",
       "      <td>June</td>\n",
       "      <td>Thursday</td>\n",
       "      <td>3</td>\n",
       "      <td>164</td>\n",
       "      <td>164</td>\n",
       "    </tr>\n",
       "  </tbody>\n",
       "</table>\n",
       "</div>"
      ],
      "text/plain": [
       "          date  product_id  city_id  orders  Date_year  Date_month  Date_day  \\\n",
       "737 2019-04-24         668        2       3       2019           4        24   \n",
       "942 2019-11-16        2999        7       1       2019          11        16   \n",
       "817 2019-10-20        3271        0       1       2019          10        20   \n",
       "932 2019-07-19        6390        0       1       2019           7        19   \n",
       "325 2019-06-13        7057        2       6       2019           6        13   \n",
       "\n",
       "    Date_month_name Date_day_name  Date_day_of_week  Date_day_of_month  \\\n",
       "737           April     Wednesday                 2                114   \n",
       "942        November      Saturday                 5                320   \n",
       "817         October        Sunday                 6                293   \n",
       "932            July        Friday                 4                200   \n",
       "325            June      Thursday                 3                164   \n",
       "\n",
       "     Date_day_of_year  \n",
       "737               114  \n",
       "942               320  \n",
       "817               293  \n",
       "932               200  \n",
       "325               164  "
      ]
     },
     "execution_count": 32,
     "metadata": {},
     "output_type": "execute_result"
    }
   ],
   "source": [
    "df_date['Date_day_of_week']=df_date['date'].dt.day_of_week\n",
    "df_date['Date_day_of_month']=df_date['date'].dt.day_of_year\n",
    "df_date['Date_day_of_year']=df_date['date'].dt.day_of_year\n",
    "\n",
    "\n",
    "\n",
    "df_date.sample(5)"
   ]
  },
  {
   "cell_type": "markdown",
   "metadata": {},
   "source": [
    "Is Weekend?"
   ]
  },
  {
   "cell_type": "code",
   "execution_count": 37,
   "metadata": {},
   "outputs": [
    {
     "data": {
      "text/html": [
       "<div>\n",
       "<style scoped>\n",
       "    .dataframe tbody tr th:only-of-type {\n",
       "        vertical-align: middle;\n",
       "    }\n",
       "\n",
       "    .dataframe tbody tr th {\n",
       "        vertical-align: top;\n",
       "    }\n",
       "\n",
       "    .dataframe thead th {\n",
       "        text-align: right;\n",
       "    }\n",
       "</style>\n",
       "<table border=\"1\" class=\"dataframe\">\n",
       "  <thead>\n",
       "    <tr style=\"text-align: right;\">\n",
       "      <th></th>\n",
       "      <th>date</th>\n",
       "      <th>product_id</th>\n",
       "      <th>city_id</th>\n",
       "      <th>orders</th>\n",
       "      <th>Date_year</th>\n",
       "      <th>Date_month</th>\n",
       "      <th>Date_day</th>\n",
       "      <th>Date_month_name</th>\n",
       "      <th>Date_day_name</th>\n",
       "      <th>Date_day_of_week</th>\n",
       "      <th>Date_day_of_month</th>\n",
       "      <th>Date_day_of_year</th>\n",
       "      <th>date_is_weekend</th>\n",
       "    </tr>\n",
       "  </thead>\n",
       "  <tbody>\n",
       "    <tr>\n",
       "      <th>234</th>\n",
       "      <td>2019-04-21</td>\n",
       "      <td>5200</td>\n",
       "      <td>28</td>\n",
       "      <td>19</td>\n",
       "      <td>2019</td>\n",
       "      <td>4</td>\n",
       "      <td>21</td>\n",
       "      <td>April</td>\n",
       "      <td>Sunday</td>\n",
       "      <td>6</td>\n",
       "      <td>111</td>\n",
       "      <td>111</td>\n",
       "      <td>1</td>\n",
       "    </tr>\n",
       "    <tr>\n",
       "      <th>129</th>\n",
       "      <td>2018-12-06</td>\n",
       "      <td>7413</td>\n",
       "      <td>13</td>\n",
       "      <td>6</td>\n",
       "      <td>2018</td>\n",
       "      <td>12</td>\n",
       "      <td>6</td>\n",
       "      <td>December</td>\n",
       "      <td>Thursday</td>\n",
       "      <td>3</td>\n",
       "      <td>340</td>\n",
       "      <td>340</td>\n",
       "      <td>0</td>\n",
       "    </tr>\n",
       "    <tr>\n",
       "      <th>669</th>\n",
       "      <td>2018-10-31</td>\n",
       "      <td>1647</td>\n",
       "      <td>4</td>\n",
       "      <td>1</td>\n",
       "      <td>2018</td>\n",
       "      <td>10</td>\n",
       "      <td>31</td>\n",
       "      <td>October</td>\n",
       "      <td>Wednesday</td>\n",
       "      <td>2</td>\n",
       "      <td>304</td>\n",
       "      <td>304</td>\n",
       "      <td>0</td>\n",
       "    </tr>\n",
       "    <tr>\n",
       "      <th>468</th>\n",
       "      <td>2019-02-14</td>\n",
       "      <td>7140</td>\n",
       "      <td>18</td>\n",
       "      <td>20</td>\n",
       "      <td>2019</td>\n",
       "      <td>2</td>\n",
       "      <td>14</td>\n",
       "      <td>February</td>\n",
       "      <td>Thursday</td>\n",
       "      <td>3</td>\n",
       "      <td>45</td>\n",
       "      <td>45</td>\n",
       "      <td>0</td>\n",
       "    </tr>\n",
       "    <tr>\n",
       "      <th>629</th>\n",
       "      <td>2019-01-15</td>\n",
       "      <td>7138</td>\n",
       "      <td>28</td>\n",
       "      <td>1</td>\n",
       "      <td>2019</td>\n",
       "      <td>1</td>\n",
       "      <td>15</td>\n",
       "      <td>January</td>\n",
       "      <td>Tuesday</td>\n",
       "      <td>1</td>\n",
       "      <td>15</td>\n",
       "      <td>15</td>\n",
       "      <td>0</td>\n",
       "    </tr>\n",
       "  </tbody>\n",
       "</table>\n",
       "</div>"
      ],
      "text/plain": [
       "          date  product_id  city_id  orders  Date_year  Date_month  Date_day  \\\n",
       "234 2019-04-21        5200       28      19       2019           4        21   \n",
       "129 2018-12-06        7413       13       6       2018          12         6   \n",
       "669 2018-10-31        1647        4       1       2018          10        31   \n",
       "468 2019-02-14        7140       18      20       2019           2        14   \n",
       "629 2019-01-15        7138       28       1       2019           1        15   \n",
       "\n",
       "    Date_month_name Date_day_name  Date_day_of_week  Date_day_of_month  \\\n",
       "234           April        Sunday                 6                111   \n",
       "129        December      Thursday                 3                340   \n",
       "669         October     Wednesday                 2                304   \n",
       "468        February      Thursday                 3                 45   \n",
       "629         January       Tuesday                 1                 15   \n",
       "\n",
       "     Date_day_of_year  date_is_weekend  \n",
       "234               111                1  \n",
       "129               340                0  \n",
       "669               304                0  \n",
       "468                45                0  \n",
       "629                15                0  "
      ]
     },
     "execution_count": 37,
     "metadata": {},
     "output_type": "execute_result"
    }
   ],
   "source": [
    "df_date['date_is_weekend']=np.where(df_date['Date_day_name'].isin(['Sunday','Saturday']),1,0) \n",
    "\n",
    "\n",
    "\n",
    "df_date.sample(5)"
   ]
  },
  {
   "cell_type": "markdown",
   "metadata": {},
   "source": [
    "Exctract Quator,samester"
   ]
  },
  {
   "cell_type": "code",
   "execution_count": 41,
   "metadata": {},
   "outputs": [
    {
     "ename": "SyntaxError",
     "evalue": "invalid syntax. Perhaps you forgot a comma? (4264278728.py, line 2)",
     "output_type": "error",
     "traceback": [
      "\u001b[1;36m  Cell \u001b[1;32mIn[41], line 2\u001b[1;36m\u001b[0m\n\u001b[1;33m    df_date['Date_semester']=np.where(df_date['Date_Quater']isin([1,2]),1,2)\u001b[0m\n\u001b[1;37m                                      ^\u001b[0m\n\u001b[1;31mSyntaxError\u001b[0m\u001b[1;31m:\u001b[0m invalid syntax. Perhaps you forgot a comma?\n"
     ]
    }
   ],
   "source": [
    "df_date['Date_Quater']=df_date['date'].dt.quarter\n",
    "\n",
    "\n",
    "\n",
    "\n",
    "df_date.sample(5)"
   ]
  },
  {
   "cell_type": "code",
   "execution_count": 42,
   "metadata": {},
   "outputs": [
    {
     "data": {
      "text/html": [
       "<div>\n",
       "<style scoped>\n",
       "    .dataframe tbody tr th:only-of-type {\n",
       "        vertical-align: middle;\n",
       "    }\n",
       "\n",
       "    .dataframe tbody tr th {\n",
       "        vertical-align: top;\n",
       "    }\n",
       "\n",
       "    .dataframe thead th {\n",
       "        text-align: right;\n",
       "    }\n",
       "</style>\n",
       "<table border=\"1\" class=\"dataframe\">\n",
       "  <thead>\n",
       "    <tr style=\"text-align: right;\">\n",
       "      <th></th>\n",
       "      <th>date</th>\n",
       "      <th>product_id</th>\n",
       "      <th>city_id</th>\n",
       "      <th>orders</th>\n",
       "      <th>Date_year</th>\n",
       "      <th>Date_month</th>\n",
       "      <th>Date_day</th>\n",
       "      <th>Date_month_name</th>\n",
       "      <th>Date_day_name</th>\n",
       "      <th>Date_day_of_week</th>\n",
       "      <th>Date_day_of_month</th>\n",
       "      <th>Date_day_of_year</th>\n",
       "      <th>date_is_weekend</th>\n",
       "      <th>Date_Quater</th>\n",
       "      <th>Date_semester</th>\n",
       "      <th>Semester</th>\n",
       "    </tr>\n",
       "  </thead>\n",
       "  <tbody>\n",
       "    <tr>\n",
       "      <th>208</th>\n",
       "      <td>2019-06-24</td>\n",
       "      <td>3919</td>\n",
       "      <td>2</td>\n",
       "      <td>22</td>\n",
       "      <td>2019</td>\n",
       "      <td>6</td>\n",
       "      <td>24</td>\n",
       "      <td>June</td>\n",
       "      <td>Monday</td>\n",
       "      <td>0</td>\n",
       "      <td>175</td>\n",
       "      <td>175</td>\n",
       "      <td>0</td>\n",
       "      <td>2</td>\n",
       "      <td>175</td>\n",
       "      <td>1</td>\n",
       "    </tr>\n",
       "    <tr>\n",
       "      <th>552</th>\n",
       "      <td>2019-02-04</td>\n",
       "      <td>5955</td>\n",
       "      <td>16</td>\n",
       "      <td>3</td>\n",
       "      <td>2019</td>\n",
       "      <td>2</td>\n",
       "      <td>4</td>\n",
       "      <td>February</td>\n",
       "      <td>Monday</td>\n",
       "      <td>0</td>\n",
       "      <td>35</td>\n",
       "      <td>35</td>\n",
       "      <td>0</td>\n",
       "      <td>1</td>\n",
       "      <td>35</td>\n",
       "      <td>1</td>\n",
       "    </tr>\n",
       "    <tr>\n",
       "      <th>12</th>\n",
       "      <td>2019-03-15</td>\n",
       "      <td>5665</td>\n",
       "      <td>5</td>\n",
       "      <td>1</td>\n",
       "      <td>2019</td>\n",
       "      <td>3</td>\n",
       "      <td>15</td>\n",
       "      <td>March</td>\n",
       "      <td>Friday</td>\n",
       "      <td>4</td>\n",
       "      <td>74</td>\n",
       "      <td>74</td>\n",
       "      <td>0</td>\n",
       "      <td>1</td>\n",
       "      <td>74</td>\n",
       "      <td>1</td>\n",
       "    </tr>\n",
       "    <tr>\n",
       "      <th>265</th>\n",
       "      <td>2019-04-28</td>\n",
       "      <td>2850</td>\n",
       "      <td>16</td>\n",
       "      <td>6</td>\n",
       "      <td>2019</td>\n",
       "      <td>4</td>\n",
       "      <td>28</td>\n",
       "      <td>April</td>\n",
       "      <td>Sunday</td>\n",
       "      <td>6</td>\n",
       "      <td>118</td>\n",
       "      <td>118</td>\n",
       "      <td>1</td>\n",
       "      <td>2</td>\n",
       "      <td>118</td>\n",
       "      <td>1</td>\n",
       "    </tr>\n",
       "    <tr>\n",
       "      <th>548</th>\n",
       "      <td>2019-11-03</td>\n",
       "      <td>5917</td>\n",
       "      <td>2</td>\n",
       "      <td>59</td>\n",
       "      <td>2019</td>\n",
       "      <td>11</td>\n",
       "      <td>3</td>\n",
       "      <td>November</td>\n",
       "      <td>Sunday</td>\n",
       "      <td>6</td>\n",
       "      <td>307</td>\n",
       "      <td>307</td>\n",
       "      <td>1</td>\n",
       "      <td>4</td>\n",
       "      <td>307</td>\n",
       "      <td>2</td>\n",
       "    </tr>\n",
       "  </tbody>\n",
       "</table>\n",
       "</div>"
      ],
      "text/plain": [
       "          date  product_id  city_id  orders  Date_year  Date_month  Date_day  \\\n",
       "208 2019-06-24        3919        2      22       2019           6        24   \n",
       "552 2019-02-04        5955       16       3       2019           2         4   \n",
       "12  2019-03-15        5665        5       1       2019           3        15   \n",
       "265 2019-04-28        2850       16       6       2019           4        28   \n",
       "548 2019-11-03        5917        2      59       2019          11         3   \n",
       "\n",
       "    Date_month_name Date_day_name  Date_day_of_week  Date_day_of_month  \\\n",
       "208            June        Monday                 0                175   \n",
       "552        February        Monday                 0                 35   \n",
       "12            March        Friday                 4                 74   \n",
       "265           April        Sunday                 6                118   \n",
       "548        November        Sunday                 6                307   \n",
       "\n",
       "     Date_day_of_year  date_is_weekend  Date_Quater  Date_semester  Semester  \n",
       "208               175                0            2            175         1  \n",
       "552                35                0            1             35         1  \n",
       "12                 74                0            1             74         1  \n",
       "265               118                1            2            118         1  \n",
       "548               307                1            4            307         2  "
      ]
     },
     "execution_count": 42,
     "metadata": {},
     "output_type": "execute_result"
    }
   ],
   "source": [
    "df_date['Semester']=np.where(df_date['Date_Quater'].isin([1,2]),1,2)\n",
    "df_date.sample(5)"
   ]
  },
  {
   "cell_type": "markdown",
   "metadata": {},
   "source": [
    "Extract Time elapsed between dates"
   ]
  },
  {
   "cell_type": "code",
   "execution_count": 44,
   "metadata": {},
   "outputs": [
    {
     "data": {
      "text/plain": [
       "datetime.datetime(2023, 9, 6, 18, 6, 16, 858707)"
      ]
     },
     "execution_count": 44,
     "metadata": {},
     "output_type": "execute_result"
    }
   ],
   "source": [
    "import datetime\n",
    "today =datetime.datetime.today()\n",
    "\n",
    "today"
   ]
  },
  {
   "cell_type": "code",
   "execution_count": 45,
   "metadata": {},
   "outputs": [
    {
     "data": {
      "text/plain": [
       "0     1366 days 18:06:16.858707\n",
       "1     1848 days 18:06:16.858707\n",
       "2     1779 days 18:06:16.858707\n",
       "3     1481 days 18:06:16.858707\n",
       "4     1704 days 18:06:16.858707\n",
       "                 ...           \n",
       "995   1794 days 18:06:16.858707\n",
       "996   1735 days 18:06:16.858707\n",
       "997   1583 days 18:06:16.858707\n",
       "998   1648 days 18:06:16.858707\n",
       "999   1422 days 18:06:16.858707\n",
       "Name: date, Length: 1000, dtype: timedelta64[ns]"
      ]
     },
     "execution_count": 45,
     "metadata": {},
     "output_type": "execute_result"
    }
   ],
   "source": [
    "today-df_date['date']"
   ]
  },
  {
   "cell_type": "code",
   "execution_count": 47,
   "metadata": {},
   "outputs": [
    {
     "data": {
      "text/plain": [
       "0      44.0\n",
       "1      60.0\n",
       "2      57.0\n",
       "3      48.0\n",
       "4      55.0\n",
       "       ... \n",
       "995    58.0\n",
       "996    56.0\n",
       "997    51.0\n",
       "998    53.0\n",
       "999    46.0\n",
       "Name: date, Length: 1000, dtype: float64"
      ]
     },
     "execution_count": 47,
     "metadata": {},
     "output_type": "execute_result"
    }
   ],
   "source": [
    "#month passed\n",
    "np.round((today-df_date['date'])/np.timedelta64(1,'M'),0)"
   ]
  },
  {
   "cell_type": "markdown",
   "metadata": {},
   "source": [
    "# Time"
   ]
  },
  {
   "cell_type": "code",
   "execution_count": 48,
   "metadata": {},
   "outputs": [
    {
     "name": "stdout",
     "output_type": "stream",
     "text": [
      "<class 'pandas.core.frame.DataFrame'>\n",
      "RangeIndex: 1000 entries, 0 to 999\n",
      "Data columns (total 2 columns):\n",
      " #   Column  Non-Null Count  Dtype         \n",
      "---  ------  --------------  -----         \n",
      " 0   date    1000 non-null   datetime64[ns]\n",
      " 1   msg     1000 non-null   object        \n",
      "dtypes: datetime64[ns](1), object(1)\n",
      "memory usage: 15.8+ KB\n"
     ]
    }
   ],
   "source": [
    "df_time.info()"
   ]
  },
  {
   "cell_type": "markdown",
   "metadata": {},
   "source": [
    "Extract date and time"
   ]
  },
  {
   "cell_type": "code",
   "execution_count": 53,
   "metadata": {},
   "outputs": [
    {
     "data": {
      "text/html": [
       "<div>\n",
       "<style scoped>\n",
       "    .dataframe tbody tr th:only-of-type {\n",
       "        vertical-align: middle;\n",
       "    }\n",
       "\n",
       "    .dataframe tbody tr th {\n",
       "        vertical-align: top;\n",
       "    }\n",
       "\n",
       "    .dataframe thead th {\n",
       "        text-align: right;\n",
       "    }\n",
       "</style>\n",
       "<table border=\"1\" class=\"dataframe\">\n",
       "  <thead>\n",
       "    <tr style=\"text-align: right;\">\n",
       "      <th></th>\n",
       "      <th>date</th>\n",
       "      <th>msg</th>\n",
       "      <th>hour</th>\n",
       "      <th>mins</th>\n",
       "      <th>sec</th>\n",
       "      <th>time</th>\n",
       "    </tr>\n",
       "  </thead>\n",
       "  <tbody>\n",
       "    <tr>\n",
       "      <th>476</th>\n",
       "      <td>2015-08-12 00:34:00</td>\n",
       "      <td>приглашаю дев сем пару прогулятся по набережно...</td>\n",
       "      <td>0</td>\n",
       "      <td>34</td>\n",
       "      <td>0</td>\n",
       "      <td>00:34:00</td>\n",
       "    </tr>\n",
       "    <tr>\n",
       "      <th>589</th>\n",
       "      <td>2012-12-27 23:49:00</td>\n",
       "      <td>Користувач РЭД проголосував ЗА кліп Валерий Ме...</td>\n",
       "      <td>23</td>\n",
       "      <td>49</td>\n",
       "      <td>0</td>\n",
       "      <td>23:49:00</td>\n",
       "    </tr>\n",
       "    <tr>\n",
       "      <th>317</th>\n",
       "      <td>2013-10-13 00:00:00</td>\n",
       "      <td>щедр  красив  умен и богат  на своем авто! Нуж...</td>\n",
       "      <td>0</td>\n",
       "      <td>0</td>\n",
       "      <td>0</td>\n",
       "      <td>00:00:00</td>\n",
       "    </tr>\n",
       "    <tr>\n",
       "      <th>398</th>\n",
       "      <td>2012-11-29 00:12:00</td>\n",
       "      <td>Бесит  что не умею говорить \\нет\\\" там  где ст...</td>\n",
       "      <td>0</td>\n",
       "      <td>12</td>\n",
       "      <td>0</td>\n",
       "      <td>00:12:00</td>\n",
       "    </tr>\n",
       "    <tr>\n",
       "      <th>300</th>\n",
       "      <td>2014-08-28 00:16:00</td>\n",
       "      <td>МУЖЧИНА ПОЗНАКОМИТСЯ С ЖЕНЩИНОЙ 34-42 ДЛЯ И.О....</td>\n",
       "      <td>0</td>\n",
       "      <td>16</td>\n",
       "      <td>0</td>\n",
       "      <td>00:16:00</td>\n",
       "    </tr>\n",
       "  </tbody>\n",
       "</table>\n",
       "</div>"
      ],
      "text/plain": [
       "                   date                                                msg  \\\n",
       "476 2015-08-12 00:34:00  приглашаю дев сем пару прогулятся по набережно...   \n",
       "589 2012-12-27 23:49:00  Користувач РЭД проголосував ЗА кліп Валерий Ме...   \n",
       "317 2013-10-13 00:00:00  щедр  красив  умен и богат  на своем авто! Нуж...   \n",
       "398 2012-11-29 00:12:00  Бесит  что не умею говорить \\нет\\\" там  где ст...   \n",
       "300 2014-08-28 00:16:00  МУЖЧИНА ПОЗНАКОМИТСЯ С ЖЕНЩИНОЙ 34-42 ДЛЯ И.О....   \n",
       "\n",
       "     hour  mins  sec      time  \n",
       "476     0    34    0  00:34:00  \n",
       "589    23    49    0  23:49:00  \n",
       "317     0     0    0  00:00:00  \n",
       "398     0    12    0  00:12:00  \n",
       "300     0    16    0  00:16:00  "
      ]
     },
     "execution_count": 53,
     "metadata": {},
     "output_type": "execute_result"
    }
   ],
   "source": [
    "df_time['time']=df_time['date'].dt.time\n",
    "df_time['hour']=df_time['date'].dt.hour\n",
    "df_time['mins']=df_time['date'].dt.minute\n",
    "df_time['sec']=df_time['date'].dt.second\n",
    "\n",
    "df_time.sample(5)\n",
    "\n"
   ]
  },
  {
   "cell_type": "markdown",
   "metadata": {},
   "source": [
    "Time Difference"
   ]
  },
  {
   "cell_type": "code",
   "execution_count": 55,
   "metadata": {},
   "outputs": [
    {
     "data": {
      "text/plain": [
       "0     3552 days 17:16:16.858707\n",
       "1     3416 days 18:26:16.858707\n",
       "2     3902 days 17:45:16.858707\n",
       "3     3204 days 17:35:16.858707\n",
       "4     3601 days 18:55:16.858707\n",
       "                 ...           \n",
       "995   4191 days 17:16:16.858707\n",
       "996   3512 days 18:52:16.858707\n",
       "997   3977 days 18:29:16.858707\n",
       "998   4093 days 18:32:16.858707\n",
       "999   3365 days 18:41:16.858707\n",
       "Name: date, Length: 1000, dtype: timedelta64[ns]"
      ]
     },
     "execution_count": 55,
     "metadata": {},
     "output_type": "execute_result"
    }
   ],
   "source": [
    "today-df_time['date']"
   ]
  },
  {
   "cell_type": "markdown",
   "metadata": {},
   "source": [
    "Time difference in seceonds\n",
    "\n",
    "np.timedelta64(1,'s')"
   ]
  },
  {
   "cell_type": "code",
   "execution_count": 57,
   "metadata": {},
   "outputs": [
    {
     "data": {
      "text/plain": [
       "0      3.069550e+08\n",
       "1      2.952088e+08\n",
       "2      3.371967e+08\n",
       "3      2.768889e+08\n",
       "4      3.111945e+08\n",
       "           ...     \n",
       "995    3.621646e+08\n",
       "996    3.035047e+08\n",
       "997    3.436794e+08\n",
       "998    3.537019e+08\n",
       "999    2.908033e+08\n",
       "Name: date, Length: 1000, dtype: float64"
      ]
     },
     "execution_count": 57,
     "metadata": {},
     "output_type": "execute_result"
    }
   ],
   "source": [
    "(today-df_time['date'])/np.timedelta64(1,'s')"
   ]
  },
  {
   "cell_type": "markdown",
   "metadata": {},
   "source": [
    "Time difference in min\n",
    "\n",
    "np.timedelta64(1,'m')"
   ]
  },
  {
   "cell_type": "code",
   "execution_count": 58,
   "metadata": {},
   "outputs": [
    {
     "data": {
      "text/plain": [
       "0      5.115916e+06\n",
       "1      4.920146e+06\n",
       "2      5.619945e+06\n",
       "3      4.614815e+06\n",
       "4      5.186575e+06\n",
       "           ...     \n",
       "995    6.036076e+06\n",
       "996    5.058412e+06\n",
       "997    5.727989e+06\n",
       "998    5.895032e+06\n",
       "999    4.846721e+06\n",
       "Name: date, Length: 1000, dtype: float64"
      ]
     },
     "execution_count": 58,
     "metadata": {},
     "output_type": "execute_result"
    }
   ],
   "source": [
    "(today-df_time['date'])/np.timedelta64(1,'m')"
   ]
  },
  {
   "cell_type": "code",
   "execution_count": null,
   "metadata": {},
   "outputs": [],
   "source": []
  }
 ],
 "metadata": {
  "kernelspec": {
   "display_name": "Python 3",
   "language": "python",
   "name": "python3"
  },
  "language_info": {
   "codemirror_mode": {
    "name": "ipython",
    "version": 3
   },
   "file_extension": ".py",
   "mimetype": "text/x-python",
   "name": "python",
   "nbconvert_exporter": "python",
   "pygments_lexer": "ipython3",
   "version": "3.11.4"
  },
  "orig_nbformat": 4
 },
 "nbformat": 4,
 "nbformat_minor": 2
}
